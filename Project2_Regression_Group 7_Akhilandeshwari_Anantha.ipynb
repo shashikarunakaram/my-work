{
 "cells": [
  {
   "cell_type": "markdown",
   "metadata": {},
   "source": [
    "# REGRESSION"
   ]
  },
  {
   "cell_type": "markdown",
   "metadata": {},
   "source": [
    "Dataset Source: https://www.kaggle.com/swathiachath/kc-housesales-data"
   ]
  },
  {
   "cell_type": "markdown",
   "metadata": {},
   "source": [
    "# Importing Data Set"
   ]
  },
  {
   "cell_type": "code",
   "execution_count": 1,
   "metadata": {},
   "outputs": [],
   "source": [
    "import pandas as pd\n",
    "import numpy as np\n",
    "from sklearn.metrics import mean_absolute_error\n",
    "from sklearn.metrics import mean_squared_error\n",
    "from sklearn.metrics import r2_score\n",
    "data = pd.read_csv('export_dataframe.csv')"
   ]
  },
  {
   "cell_type": "markdown",
   "metadata": {},
   "source": [
    "## Viewing Data"
   ]
  },
  {
   "cell_type": "code",
   "execution_count": 2,
   "metadata": {},
   "outputs": [
    {
     "data": {
      "text/plain": [
       "(21597, 21)"
      ]
     },
     "execution_count": 2,
     "metadata": {},
     "output_type": "execute_result"
    }
   ],
   "source": [
    "data.shape"
   ]
  },
  {
   "cell_type": "markdown",
   "metadata": {},
   "source": [
    "Missing values are marked as '?'"
   ]
  },
  {
   "cell_type": "code",
   "execution_count": 3,
   "metadata": {
    "scrolled": true
   },
   "outputs": [
    {
     "name": "stdout",
     "output_type": "stream",
     "text": [
      "<class 'pandas.core.frame.DataFrame'>\n",
      "RangeIndex: 21597 entries, 0 to 21596\n",
      "Data columns (total 21 columns):\n",
      "id               21597 non-null object\n",
      "date             21597 non-null object\n",
      "price            21597 non-null object\n",
      "bedrooms         21597 non-null object\n",
      "bathrooms        21597 non-null object\n",
      "sqft_living      21597 non-null object\n",
      "sqft_lot         21597 non-null object\n",
      "floors           21597 non-null object\n",
      "waterfront       21597 non-null object\n",
      "view             21597 non-null object\n",
      "condition        21597 non-null object\n",
      "grade            21597 non-null object\n",
      "sqft_above       21597 non-null object\n",
      "sqft_basement    21597 non-null object\n",
      "yr_built         21597 non-null object\n",
      "yr_renovated     21597 non-null object\n",
      "zipcode          21597 non-null object\n",
      "lat              21597 non-null object\n",
      "long             21597 non-null object\n",
      "sqft_living15    21597 non-null object\n",
      "sqft_lot15       21597 non-null object\n",
      "dtypes: object(21)\n",
      "memory usage: 3.5+ MB\n"
     ]
    }
   ],
   "source": [
    "data.info()"
   ]
  },
  {
   "cell_type": "markdown",
   "metadata": {},
   "source": [
    "## Dataset Summary:\n",
    "- Features: 21\n",
    "     - Categorical columns: 2\n",
    "     - Ordinal columns: 4\n",
    "- Rows: 21597\n",
    "- Percentage of missing values: 5.0%\n",
    "- Target Value: 'Price'"
   ]
  },
  {
   "cell_type": "markdown",
   "metadata": {},
   "source": [
    "# Replacing '?' (missing values) with nan"
   ]
  },
  {
   "cell_type": "code",
   "execution_count": 4,
   "metadata": {},
   "outputs": [
    {
     "data": {
      "text/html": [
       "<div>\n",
       "<style scoped>\n",
       "    .dataframe tbody tr th:only-of-type {\n",
       "        vertical-align: middle;\n",
       "    }\n",
       "\n",
       "    .dataframe tbody tr th {\n",
       "        vertical-align: top;\n",
       "    }\n",
       "\n",
       "    .dataframe thead th {\n",
       "        text-align: right;\n",
       "    }\n",
       "</style>\n",
       "<table border=\"1\" class=\"dataframe\">\n",
       "  <thead>\n",
       "    <tr style=\"text-align: right;\">\n",
       "      <th></th>\n",
       "      <th>id</th>\n",
       "      <th>date</th>\n",
       "      <th>price</th>\n",
       "      <th>bedrooms</th>\n",
       "      <th>bathrooms</th>\n",
       "      <th>sqft_living</th>\n",
       "      <th>sqft_lot</th>\n",
       "      <th>floors</th>\n",
       "      <th>waterfront</th>\n",
       "      <th>view</th>\n",
       "      <th>...</th>\n",
       "      <th>grade</th>\n",
       "      <th>sqft_above</th>\n",
       "      <th>sqft_basement</th>\n",
       "      <th>yr_built</th>\n",
       "      <th>yr_renovated</th>\n",
       "      <th>zipcode</th>\n",
       "      <th>lat</th>\n",
       "      <th>long</th>\n",
       "      <th>sqft_living15</th>\n",
       "      <th>sqft_lot15</th>\n",
       "    </tr>\n",
       "  </thead>\n",
       "  <tbody>\n",
       "    <tr>\n",
       "      <th>0</th>\n",
       "      <td>7129300520</td>\n",
       "      <td>10/13/2014</td>\n",
       "      <td>221900.0</td>\n",
       "      <td>3</td>\n",
       "      <td>1.0</td>\n",
       "      <td>1180</td>\n",
       "      <td>5650</td>\n",
       "      <td>1.0</td>\n",
       "      <td>0</td>\n",
       "      <td>0</td>\n",
       "      <td>...</td>\n",
       "      <td>7</td>\n",
       "      <td>1180</td>\n",
       "      <td>0</td>\n",
       "      <td>1955</td>\n",
       "      <td>0</td>\n",
       "      <td>98178</td>\n",
       "      <td>47.5112</td>\n",
       "      <td>-122.257</td>\n",
       "      <td>1340</td>\n",
       "      <td>5650</td>\n",
       "    </tr>\n",
       "    <tr>\n",
       "      <th>1</th>\n",
       "      <td>6414100192</td>\n",
       "      <td>12/9/2014</td>\n",
       "      <td>538000.0</td>\n",
       "      <td>3</td>\n",
       "      <td>2.25</td>\n",
       "      <td>2570</td>\n",
       "      <td>7242</td>\n",
       "      <td>2.0</td>\n",
       "      <td>0</td>\n",
       "      <td>0</td>\n",
       "      <td>...</td>\n",
       "      <td>7</td>\n",
       "      <td>2170</td>\n",
       "      <td>400</td>\n",
       "      <td>1951</td>\n",
       "      <td>1991</td>\n",
       "      <td>98125</td>\n",
       "      <td>47.721000000000004</td>\n",
       "      <td>?</td>\n",
       "      <td>1690</td>\n",
       "      <td>7639</td>\n",
       "    </tr>\n",
       "    <tr>\n",
       "      <th>2</th>\n",
       "      <td>5631500400</td>\n",
       "      <td>2/25/2015</td>\n",
       "      <td>180000.0</td>\n",
       "      <td>2</td>\n",
       "      <td>1.0</td>\n",
       "      <td>770</td>\n",
       "      <td>10000</td>\n",
       "      <td>1.0</td>\n",
       "      <td>0</td>\n",
       "      <td>0</td>\n",
       "      <td>...</td>\n",
       "      <td>6</td>\n",
       "      <td>770</td>\n",
       "      <td>0</td>\n",
       "      <td>?</td>\n",
       "      <td>0</td>\n",
       "      <td>?</td>\n",
       "      <td>47.7379</td>\n",
       "      <td>-122.23299999999999</td>\n",
       "      <td>2720</td>\n",
       "      <td>8062</td>\n",
       "    </tr>\n",
       "    <tr>\n",
       "      <th>3</th>\n",
       "      <td>2487200875</td>\n",
       "      <td>12/9/2014</td>\n",
       "      <td>604000.0</td>\n",
       "      <td>4</td>\n",
       "      <td>3.0</td>\n",
       "      <td>1960</td>\n",
       "      <td>5000</td>\n",
       "      <td>1.0</td>\n",
       "      <td>0</td>\n",
       "      <td>0</td>\n",
       "      <td>...</td>\n",
       "      <td>7</td>\n",
       "      <td>1050</td>\n",
       "      <td>?</td>\n",
       "      <td>1965</td>\n",
       "      <td>0</td>\n",
       "      <td>?</td>\n",
       "      <td>47.5208</td>\n",
       "      <td>-122.39299999999999</td>\n",
       "      <td>1360</td>\n",
       "      <td>5000</td>\n",
       "    </tr>\n",
       "    <tr>\n",
       "      <th>4</th>\n",
       "      <td>1954400510</td>\n",
       "      <td>2/18/2015</td>\n",
       "      <td>510000.0</td>\n",
       "      <td>3</td>\n",
       "      <td>2.0</td>\n",
       "      <td>1680</td>\n",
       "      <td>8080</td>\n",
       "      <td>1.0</td>\n",
       "      <td>0</td>\n",
       "      <td>0</td>\n",
       "      <td>...</td>\n",
       "      <td>8</td>\n",
       "      <td>1680</td>\n",
       "      <td>0</td>\n",
       "      <td>1987</td>\n",
       "      <td>0</td>\n",
       "      <td>98074</td>\n",
       "      <td>47.6168</td>\n",
       "      <td>-122.045</td>\n",
       "      <td>1800</td>\n",
       "      <td>7503</td>\n",
       "    </tr>\n",
       "  </tbody>\n",
       "</table>\n",
       "<p>5 rows × 21 columns</p>\n",
       "</div>"
      ],
      "text/plain": [
       "           id        date     price bedrooms bathrooms sqft_living sqft_lot  \\\n",
       "0  7129300520  10/13/2014  221900.0        3       1.0        1180     5650   \n",
       "1  6414100192   12/9/2014  538000.0        3      2.25        2570     7242   \n",
       "2  5631500400   2/25/2015  180000.0        2       1.0         770    10000   \n",
       "3  2487200875   12/9/2014  604000.0        4       3.0        1960     5000   \n",
       "4  1954400510   2/18/2015  510000.0        3       2.0        1680     8080   \n",
       "\n",
       "  floors waterfront view  ... grade sqft_above sqft_basement yr_built  \\\n",
       "0    1.0          0    0  ...     7       1180             0     1955   \n",
       "1    2.0          0    0  ...     7       2170           400     1951   \n",
       "2    1.0          0    0  ...     6        770             0        ?   \n",
       "3    1.0          0    0  ...     7       1050             ?     1965   \n",
       "4    1.0          0    0  ...     8       1680             0     1987   \n",
       "\n",
       "  yr_renovated zipcode                 lat                 long sqft_living15  \\\n",
       "0            0   98178             47.5112             -122.257          1340   \n",
       "1         1991   98125  47.721000000000004                    ?          1690   \n",
       "2            0       ?             47.7379  -122.23299999999999          2720   \n",
       "3            0       ?             47.5208  -122.39299999999999          1360   \n",
       "4            0   98074             47.6168             -122.045          1800   \n",
       "\n",
       "  sqft_lot15  \n",
       "0       5650  \n",
       "1       7639  \n",
       "2       8062  \n",
       "3       5000  \n",
       "4       7503  \n",
       "\n",
       "[5 rows x 21 columns]"
      ]
     },
     "execution_count": 4,
     "metadata": {},
     "output_type": "execute_result"
    }
   ],
   "source": [
    "data.head()"
   ]
  },
  {
   "cell_type": "code",
   "execution_count": 5,
   "metadata": {},
   "outputs": [],
   "source": [
    "data = data.replace('?', np.nan)"
   ]
  },
  {
   "cell_type": "code",
   "execution_count": 6,
   "metadata": {},
   "outputs": [
    {
     "data": {
      "text/plain": [
       "id               1072\n",
       "date             1065\n",
       "price            1069\n",
       "bedrooms         1066\n",
       "bathrooms        1067\n",
       "sqft_living      1070\n",
       "sqft_lot         1068\n",
       "floors           1078\n",
       "waterfront       1074\n",
       "view             1073\n",
       "condition        1073\n",
       "grade            1071\n",
       "sqft_above       1077\n",
       "sqft_basement    1063\n",
       "yr_built         1076\n",
       "yr_renovated     1066\n",
       "zipcode          1072\n",
       "lat              1072\n",
       "long             1070\n",
       "sqft_living15    1082\n",
       "sqft_lot15       1066\n",
       "dtype: int64"
      ]
     },
     "execution_count": 6,
     "metadata": {},
     "output_type": "execute_result"
    }
   ],
   "source": [
    "data.isna().sum()"
   ]
  },
  {
   "cell_type": "code",
   "execution_count": 7,
   "metadata": {},
   "outputs": [
    {
     "data": {
      "text/html": [
       "<div>\n",
       "<style scoped>\n",
       "    .dataframe tbody tr th:only-of-type {\n",
       "        vertical-align: middle;\n",
       "    }\n",
       "\n",
       "    .dataframe tbody tr th {\n",
       "        vertical-align: top;\n",
       "    }\n",
       "\n",
       "    .dataframe thead th {\n",
       "        text-align: right;\n",
       "    }\n",
       "</style>\n",
       "<table border=\"1\" class=\"dataframe\">\n",
       "  <thead>\n",
       "    <tr style=\"text-align: right;\">\n",
       "      <th></th>\n",
       "      <th>id</th>\n",
       "      <th>date</th>\n",
       "      <th>price</th>\n",
       "      <th>bedrooms</th>\n",
       "      <th>bathrooms</th>\n",
       "      <th>sqft_living</th>\n",
       "      <th>sqft_lot</th>\n",
       "      <th>floors</th>\n",
       "      <th>waterfront</th>\n",
       "      <th>view</th>\n",
       "      <th>...</th>\n",
       "      <th>grade</th>\n",
       "      <th>sqft_above</th>\n",
       "      <th>sqft_basement</th>\n",
       "      <th>yr_built</th>\n",
       "      <th>yr_renovated</th>\n",
       "      <th>zipcode</th>\n",
       "      <th>lat</th>\n",
       "      <th>long</th>\n",
       "      <th>sqft_living15</th>\n",
       "      <th>sqft_lot15</th>\n",
       "    </tr>\n",
       "  </thead>\n",
       "  <tbody>\n",
       "    <tr>\n",
       "      <th>0</th>\n",
       "      <td>7129300520</td>\n",
       "      <td>10/13/2014</td>\n",
       "      <td>221900.0</td>\n",
       "      <td>3</td>\n",
       "      <td>1.0</td>\n",
       "      <td>1180</td>\n",
       "      <td>5650</td>\n",
       "      <td>1.0</td>\n",
       "      <td>0</td>\n",
       "      <td>0</td>\n",
       "      <td>...</td>\n",
       "      <td>7</td>\n",
       "      <td>1180</td>\n",
       "      <td>0</td>\n",
       "      <td>1955</td>\n",
       "      <td>0</td>\n",
       "      <td>98178</td>\n",
       "      <td>47.5112</td>\n",
       "      <td>-122.257</td>\n",
       "      <td>1340</td>\n",
       "      <td>5650</td>\n",
       "    </tr>\n",
       "    <tr>\n",
       "      <th>1</th>\n",
       "      <td>6414100192</td>\n",
       "      <td>12/9/2014</td>\n",
       "      <td>538000.0</td>\n",
       "      <td>3</td>\n",
       "      <td>2.25</td>\n",
       "      <td>2570</td>\n",
       "      <td>7242</td>\n",
       "      <td>2.0</td>\n",
       "      <td>0</td>\n",
       "      <td>0</td>\n",
       "      <td>...</td>\n",
       "      <td>7</td>\n",
       "      <td>2170</td>\n",
       "      <td>400</td>\n",
       "      <td>1951</td>\n",
       "      <td>1991</td>\n",
       "      <td>98125</td>\n",
       "      <td>47.721000000000004</td>\n",
       "      <td>NaN</td>\n",
       "      <td>1690</td>\n",
       "      <td>7639</td>\n",
       "    </tr>\n",
       "    <tr>\n",
       "      <th>2</th>\n",
       "      <td>5631500400</td>\n",
       "      <td>2/25/2015</td>\n",
       "      <td>180000.0</td>\n",
       "      <td>2</td>\n",
       "      <td>1.0</td>\n",
       "      <td>770</td>\n",
       "      <td>10000</td>\n",
       "      <td>1.0</td>\n",
       "      <td>0</td>\n",
       "      <td>0</td>\n",
       "      <td>...</td>\n",
       "      <td>6</td>\n",
       "      <td>770</td>\n",
       "      <td>0</td>\n",
       "      <td>NaN</td>\n",
       "      <td>0</td>\n",
       "      <td>NaN</td>\n",
       "      <td>47.7379</td>\n",
       "      <td>-122.23299999999999</td>\n",
       "      <td>2720</td>\n",
       "      <td>8062</td>\n",
       "    </tr>\n",
       "    <tr>\n",
       "      <th>3</th>\n",
       "      <td>2487200875</td>\n",
       "      <td>12/9/2014</td>\n",
       "      <td>604000.0</td>\n",
       "      <td>4</td>\n",
       "      <td>3.0</td>\n",
       "      <td>1960</td>\n",
       "      <td>5000</td>\n",
       "      <td>1.0</td>\n",
       "      <td>0</td>\n",
       "      <td>0</td>\n",
       "      <td>...</td>\n",
       "      <td>7</td>\n",
       "      <td>1050</td>\n",
       "      <td>NaN</td>\n",
       "      <td>1965</td>\n",
       "      <td>0</td>\n",
       "      <td>NaN</td>\n",
       "      <td>47.5208</td>\n",
       "      <td>-122.39299999999999</td>\n",
       "      <td>1360</td>\n",
       "      <td>5000</td>\n",
       "    </tr>\n",
       "    <tr>\n",
       "      <th>4</th>\n",
       "      <td>1954400510</td>\n",
       "      <td>2/18/2015</td>\n",
       "      <td>510000.0</td>\n",
       "      <td>3</td>\n",
       "      <td>2.0</td>\n",
       "      <td>1680</td>\n",
       "      <td>8080</td>\n",
       "      <td>1.0</td>\n",
       "      <td>0</td>\n",
       "      <td>0</td>\n",
       "      <td>...</td>\n",
       "      <td>8</td>\n",
       "      <td>1680</td>\n",
       "      <td>0</td>\n",
       "      <td>1987</td>\n",
       "      <td>0</td>\n",
       "      <td>98074</td>\n",
       "      <td>47.6168</td>\n",
       "      <td>-122.045</td>\n",
       "      <td>1800</td>\n",
       "      <td>7503</td>\n",
       "    </tr>\n",
       "  </tbody>\n",
       "</table>\n",
       "<p>5 rows × 21 columns</p>\n",
       "</div>"
      ],
      "text/plain": [
       "           id        date     price bedrooms bathrooms sqft_living sqft_lot  \\\n",
       "0  7129300520  10/13/2014  221900.0        3       1.0        1180     5650   \n",
       "1  6414100192   12/9/2014  538000.0        3      2.25        2570     7242   \n",
       "2  5631500400   2/25/2015  180000.0        2       1.0         770    10000   \n",
       "3  2487200875   12/9/2014  604000.0        4       3.0        1960     5000   \n",
       "4  1954400510   2/18/2015  510000.0        3       2.0        1680     8080   \n",
       "\n",
       "  floors waterfront view  ... grade sqft_above sqft_basement yr_built  \\\n",
       "0    1.0          0    0  ...     7       1180             0     1955   \n",
       "1    2.0          0    0  ...     7       2170           400     1951   \n",
       "2    1.0          0    0  ...     6        770             0      NaN   \n",
       "3    1.0          0    0  ...     7       1050           NaN     1965   \n",
       "4    1.0          0    0  ...     8       1680             0     1987   \n",
       "\n",
       "  yr_renovated zipcode                 lat                 long sqft_living15  \\\n",
       "0            0   98178             47.5112             -122.257          1340   \n",
       "1         1991   98125  47.721000000000004                  NaN          1690   \n",
       "2            0     NaN             47.7379  -122.23299999999999          2720   \n",
       "3            0     NaN             47.5208  -122.39299999999999          1360   \n",
       "4            0   98074             47.6168             -122.045          1800   \n",
       "\n",
       "  sqft_lot15  \n",
       "0       5650  \n",
       "1       7639  \n",
       "2       8062  \n",
       "3       5000  \n",
       "4       7503  \n",
       "\n",
       "[5 rows x 21 columns]"
      ]
     },
     "execution_count": 7,
     "metadata": {},
     "output_type": "execute_result"
    }
   ],
   "source": [
    "data.head()"
   ]
  },
  {
   "cell_type": "code",
   "execution_count": 8,
   "metadata": {},
   "outputs": [],
   "source": [
    "data = data.drop([ 'id','date'], axis = 1)"
   ]
  },
  {
   "cell_type": "code",
   "execution_count": 9,
   "metadata": {},
   "outputs": [
    {
     "data": {
      "text/html": [
       "<div>\n",
       "<style scoped>\n",
       "    .dataframe tbody tr th:only-of-type {\n",
       "        vertical-align: middle;\n",
       "    }\n",
       "\n",
       "    .dataframe tbody tr th {\n",
       "        vertical-align: top;\n",
       "    }\n",
       "\n",
       "    .dataframe thead th {\n",
       "        text-align: right;\n",
       "    }\n",
       "</style>\n",
       "<table border=\"1\" class=\"dataframe\">\n",
       "  <thead>\n",
       "    <tr style=\"text-align: right;\">\n",
       "      <th></th>\n",
       "      <th>price</th>\n",
       "      <th>bedrooms</th>\n",
       "      <th>bathrooms</th>\n",
       "      <th>sqft_living</th>\n",
       "      <th>sqft_lot</th>\n",
       "      <th>floors</th>\n",
       "      <th>waterfront</th>\n",
       "      <th>view</th>\n",
       "      <th>condition</th>\n",
       "      <th>grade</th>\n",
       "      <th>sqft_above</th>\n",
       "      <th>sqft_basement</th>\n",
       "      <th>yr_built</th>\n",
       "      <th>yr_renovated</th>\n",
       "      <th>zipcode</th>\n",
       "      <th>lat</th>\n",
       "      <th>long</th>\n",
       "      <th>sqft_living15</th>\n",
       "      <th>sqft_lot15</th>\n",
       "    </tr>\n",
       "  </thead>\n",
       "  <tbody>\n",
       "    <tr>\n",
       "      <th>0</th>\n",
       "      <td>221900.0</td>\n",
       "      <td>3</td>\n",
       "      <td>1.0</td>\n",
       "      <td>1180</td>\n",
       "      <td>5650</td>\n",
       "      <td>1.0</td>\n",
       "      <td>0</td>\n",
       "      <td>0</td>\n",
       "      <td>3</td>\n",
       "      <td>7</td>\n",
       "      <td>1180</td>\n",
       "      <td>0</td>\n",
       "      <td>1955</td>\n",
       "      <td>0</td>\n",
       "      <td>98178</td>\n",
       "      <td>47.5112</td>\n",
       "      <td>-122.257</td>\n",
       "      <td>1340</td>\n",
       "      <td>5650</td>\n",
       "    </tr>\n",
       "    <tr>\n",
       "      <th>1</th>\n",
       "      <td>538000.0</td>\n",
       "      <td>3</td>\n",
       "      <td>2.25</td>\n",
       "      <td>2570</td>\n",
       "      <td>7242</td>\n",
       "      <td>2.0</td>\n",
       "      <td>0</td>\n",
       "      <td>0</td>\n",
       "      <td>3</td>\n",
       "      <td>7</td>\n",
       "      <td>2170</td>\n",
       "      <td>400</td>\n",
       "      <td>1951</td>\n",
       "      <td>1991</td>\n",
       "      <td>98125</td>\n",
       "      <td>47.721000000000004</td>\n",
       "      <td>NaN</td>\n",
       "      <td>1690</td>\n",
       "      <td>7639</td>\n",
       "    </tr>\n",
       "    <tr>\n",
       "      <th>2</th>\n",
       "      <td>180000.0</td>\n",
       "      <td>2</td>\n",
       "      <td>1.0</td>\n",
       "      <td>770</td>\n",
       "      <td>10000</td>\n",
       "      <td>1.0</td>\n",
       "      <td>0</td>\n",
       "      <td>0</td>\n",
       "      <td>3</td>\n",
       "      <td>6</td>\n",
       "      <td>770</td>\n",
       "      <td>0</td>\n",
       "      <td>NaN</td>\n",
       "      <td>0</td>\n",
       "      <td>NaN</td>\n",
       "      <td>47.7379</td>\n",
       "      <td>-122.23299999999999</td>\n",
       "      <td>2720</td>\n",
       "      <td>8062</td>\n",
       "    </tr>\n",
       "    <tr>\n",
       "      <th>3</th>\n",
       "      <td>604000.0</td>\n",
       "      <td>4</td>\n",
       "      <td>3.0</td>\n",
       "      <td>1960</td>\n",
       "      <td>5000</td>\n",
       "      <td>1.0</td>\n",
       "      <td>0</td>\n",
       "      <td>0</td>\n",
       "      <td>5</td>\n",
       "      <td>7</td>\n",
       "      <td>1050</td>\n",
       "      <td>NaN</td>\n",
       "      <td>1965</td>\n",
       "      <td>0</td>\n",
       "      <td>NaN</td>\n",
       "      <td>47.5208</td>\n",
       "      <td>-122.39299999999999</td>\n",
       "      <td>1360</td>\n",
       "      <td>5000</td>\n",
       "    </tr>\n",
       "    <tr>\n",
       "      <th>4</th>\n",
       "      <td>510000.0</td>\n",
       "      <td>3</td>\n",
       "      <td>2.0</td>\n",
       "      <td>1680</td>\n",
       "      <td>8080</td>\n",
       "      <td>1.0</td>\n",
       "      <td>0</td>\n",
       "      <td>0</td>\n",
       "      <td>3</td>\n",
       "      <td>8</td>\n",
       "      <td>1680</td>\n",
       "      <td>0</td>\n",
       "      <td>1987</td>\n",
       "      <td>0</td>\n",
       "      <td>98074</td>\n",
       "      <td>47.6168</td>\n",
       "      <td>-122.045</td>\n",
       "      <td>1800</td>\n",
       "      <td>7503</td>\n",
       "    </tr>\n",
       "  </tbody>\n",
       "</table>\n",
       "</div>"
      ],
      "text/plain": [
       "      price bedrooms bathrooms sqft_living sqft_lot floors waterfront view  \\\n",
       "0  221900.0        3       1.0        1180     5650    1.0          0    0   \n",
       "1  538000.0        3      2.25        2570     7242    2.0          0    0   \n",
       "2  180000.0        2       1.0         770    10000    1.0          0    0   \n",
       "3  604000.0        4       3.0        1960     5000    1.0          0    0   \n",
       "4  510000.0        3       2.0        1680     8080    1.0          0    0   \n",
       "\n",
       "  condition grade sqft_above sqft_basement yr_built yr_renovated zipcode  \\\n",
       "0         3     7       1180             0     1955            0   98178   \n",
       "1         3     7       2170           400     1951         1991   98125   \n",
       "2         3     6        770             0      NaN            0     NaN   \n",
       "3         5     7       1050           NaN     1965            0     NaN   \n",
       "4         3     8       1680             0     1987            0   98074   \n",
       "\n",
       "                  lat                 long sqft_living15 sqft_lot15  \n",
       "0             47.5112             -122.257          1340       5650  \n",
       "1  47.721000000000004                  NaN          1690       7639  \n",
       "2             47.7379  -122.23299999999999          2720       8062  \n",
       "3             47.5208  -122.39299999999999          1360       5000  \n",
       "4             47.6168             -122.045          1800       7503  "
      ]
     },
     "execution_count": 9,
     "metadata": {},
     "output_type": "execute_result"
    }
   ],
   "source": [
    "data.head()"
   ]
  },
  {
   "cell_type": "markdown",
   "metadata": {},
   "source": [
    "# Dealing with missing values"
   ]
  },
  {
   "cell_type": "code",
   "execution_count": 10,
   "metadata": {},
   "outputs": [],
   "source": [
    "data['price'] = data['price'].astype(float)\n",
    "data['bathrooms'] = data['bathrooms'].astype(float)\n",
    "data['bedrooms'] = data['bedrooms'].astype(float)\n",
    "data['sqft_living'] = data['sqft_living'].astype(float)\n",
    "data['sqft_lot'] = data['sqft_lot'].astype(float)\n",
    "data['floors'] = data['floors'].astype(float)\n",
    "data['waterfront'] = data['waterfront'].astype(float)\n",
    "data['view'] = data['view'].astype(float)\n",
    "data['condition'] = data['condition'].astype(float)\n",
    "data['grade'] = data['grade'].astype(float)\n",
    "data['sqft_above'] = data['sqft_above'].astype(float)\n",
    "data['sqft_basement'] = data['sqft_basement'].astype(float)\n",
    "data['yr_built'] = data['yr_built'].astype(float)\n",
    "data['yr_renovated'] = data['yr_renovated'].astype(float)\n",
    "data['zipcode'] = data['price'].astype(float)\n",
    "data['lat'] = data['zipcode'].astype(float)\n",
    "data['long'] = data['long'].astype(float)\n",
    "data['sqft_living15'] = data['sqft_living15'].astype(float)\n",
    "data['sqft_lot15'] = data['sqft_lot15'].astype(float)"
   ]
  },
  {
   "cell_type": "markdown",
   "metadata": {},
   "source": [
    "Replacing Nulls with Mean"
   ]
  },
  {
   "cell_type": "code",
   "execution_count": 11,
   "metadata": {},
   "outputs": [],
   "source": [
    "data.fillna(data.mean(), inplace=True)"
   ]
  },
  {
   "cell_type": "code",
   "execution_count": 12,
   "metadata": {},
   "outputs": [
    {
     "data": {
      "text/plain": [
       "price            0\n",
       "bedrooms         0\n",
       "bathrooms        0\n",
       "sqft_living      0\n",
       "sqft_lot         0\n",
       "floors           0\n",
       "waterfront       0\n",
       "view             0\n",
       "condition        0\n",
       "grade            0\n",
       "sqft_above       0\n",
       "sqft_basement    0\n",
       "yr_built         0\n",
       "yr_renovated     0\n",
       "zipcode          0\n",
       "lat              0\n",
       "long             0\n",
       "sqft_living15    0\n",
       "sqft_lot15       0\n",
       "dtype: int64"
      ]
     },
     "execution_count": 12,
     "metadata": {},
     "output_type": "execute_result"
    }
   ],
   "source": [
    "data.isna().sum()"
   ]
  },
  {
   "cell_type": "markdown",
   "metadata": {},
   "source": [
    "### Histogram of Dataset"
   ]
  },
  {
   "cell_type": "code",
   "execution_count": 16,
   "metadata": {},
   "outputs": [
    {
     "data": {
      "image/png": "[encoded data removed]",
      "text/plain": [
       "<Figure size 2880x2880 with 20 Axes>"
      ]
     },
     "metadata": {
      "needs_background": "light"
     },
     "output_type": "display_data"
    }
   ],
   "source": [
    "pd.DataFrame.hist(data, figsize = [40,40]);"
   ]
  },
  {
   "cell_type": "code",
   "execution_count": 14,
   "metadata": {},
   "outputs": [
    {
     "data": {
      "text/plain": [
       "<matplotlib.axes._subplots.AxesSubplot at 0x2d00190c390>"
      ]
     },
     "execution_count": 14,
     "metadata": {},
     "output_type": "execute_result"
    },
    {
     "data": {
      "image/png": "[encoded data removed]",
      "text/plain": [
       "<Figure size 1152x720 with 2 Axes>"
      ]
     },
     "metadata": {
      "needs_background": "light"
     },
     "output_type": "display_data"
    }
   ],
   "source": [
    "import matplotlib.pyplot as plt\n",
    "import seaborn as sns\n",
    "%matplotlib inline\n",
    "plt.figure(figsize = (16,10))\n",
    "corr = data.corr()\n",
    "sns.heatmap(corr, \n",
    "        xticklabels=corr.columns,\n",
    "        yticklabels=corr.columns)\n"
   ]
  },
  {
   "cell_type": "markdown",
   "metadata": {},
   "source": [
    "# Scaling and Splitting the Data"
   ]
  },
  {
   "cell_type": "code",
   "execution_count": 15,
   "metadata": {},
   "outputs": [],
   "source": [
    "from sklearn.preprocessing import StandardScaler\n",
    "from sklearn.model_selection import train_test_split"
   ]
  },
  {
   "cell_type": "code",
   "execution_count": 16,
   "metadata": {},
   "outputs": [],
   "source": [
    "y = data['price']\n",
    "X = data.drop(['price', 'lat','long', 'sqft_living15', 'sqft_lot15', 'zipcode'], axis = 1)"
   ]
  },
  {
   "cell_type": "code",
   "execution_count": 17,
   "metadata": {},
   "outputs": [],
   "source": [
    "X_train_org, X_test_org, y_train, y_test = train_test_split(X, y, random_state = 0)\n",
    "\n",
    "scaler = StandardScaler()\n",
    "X_train = scaler.fit_transform(X_train_org)\n",
    "X_test = scaler.transform(X_test_org)"
   ]
  },
  {
   "cell_type": "markdown",
   "metadata": {},
   "source": [
    "# Bagging"
   ]
  },
  {
   "cell_type": "markdown",
   "metadata": {},
   "source": [
    "## KNN"
   ]
  },
  {
   "cell_type": "code",
   "execution_count": 18,
   "metadata": {},
   "outputs": [],
   "source": [
    "from sklearn.neighbors import KNeighborsRegressor\n",
    "from sklearn.ensemble import BaggingRegressor\n",
    "\n",
    "kn_clf = KNeighborsRegressor(7)\n",
    "bag_clf = BaggingRegressor(kn_clf, n_estimators=500, bootstrap= True, max_features=10, random_state = 0)"
   ]
  },
  {
   "cell_type": "code",
   "execution_count": 19,
   "metadata": {},
   "outputs": [
    {
     "data": {
      "text/plain": [
       "0.6524330402966465"
      ]
     },
     "execution_count": 19,
     "metadata": {},
     "output_type": "execute_result"
    }
   ],
   "source": [
    "bag_clf.fit(X_train, y_train)\n",
    "bag_clf.score(X_test, y_test)"
   ]
  },
  {
   "cell_type": "code",
   "execution_count": 20,
   "metadata": {},
   "outputs": [
    {
     "data": {
      "text/plain": [
       "0.7356909630771654"
      ]
     },
     "execution_count": 20,
     "metadata": {},
     "output_type": "execute_result"
    }
   ],
   "source": [
    "bag_clf.score(X_train, y_train)"
   ]
  },
  {
   "cell_type": "code",
   "execution_count": 21,
   "metadata": {},
   "outputs": [
    {
     "data": {
      "text/plain": [
       "(16197, 13)"
      ]
     },
     "execution_count": 21,
     "metadata": {},
     "output_type": "execute_result"
    }
   ],
   "source": [
    "X_train.shape"
   ]
  },
  {
   "cell_type": "markdown",
   "metadata": {},
   "source": [
    "## Linear Regression"
   ]
  },
  {
   "cell_type": "code",
   "execution_count": 22,
   "metadata": {},
   "outputs": [],
   "source": [
    "from sklearn.linear_model import LinearRegression\n",
    "from sklearn.ensemble import BaggingRegressor\n",
    "\n",
    "lr_clf = LinearRegression()\n",
    "bag_clf = BaggingRegressor(lr_clf, n_estimators=500, bootstrap= True, max_features=10, random_state = 0)"
   ]
  },
  {
   "cell_type": "code",
   "execution_count": 23,
   "metadata": {},
   "outputs": [
    {
     "data": {
      "text/plain": [
       "0.6147612457365621"
      ]
     },
     "execution_count": 23,
     "metadata": {},
     "output_type": "execute_result"
    }
   ],
   "source": [
    "bag_clf.fit(X_train, y_train)\n",
    "bag_clf.score(X_test, y_test)"
   ]
  },
  {
   "cell_type": "code",
   "execution_count": 24,
   "metadata": {},
   "outputs": [
    {
     "data": {
      "text/plain": [
       "0.5985295842422409"
      ]
     },
     "execution_count": 24,
     "metadata": {},
     "output_type": "execute_result"
    }
   ],
   "source": [
    "bag_clf.score(X_train, y_train)"
   ]
  },
  {
   "cell_type": "code",
   "execution_count": 25,
   "metadata": {},
   "outputs": [
    {
     "data": {
      "text/plain": [
       "(16197, 13)"
      ]
     },
     "execution_count": 25,
     "metadata": {},
     "output_type": "execute_result"
    }
   ],
   "source": [
    "X_train.shape"
   ]
  },
  {
   "cell_type": "markdown",
   "metadata": {},
   "source": [
    "# Pasting"
   ]
  },
  {
   "cell_type": "markdown",
   "metadata": {},
   "source": [
    "## Ridge"
   ]
  },
  {
   "cell_type": "code",
   "execution_count": 26,
   "metadata": {},
   "outputs": [],
   "source": [
    "from sklearn.preprocessing import MinMaxScaler\n",
    "scaler = MinMaxScaler()\n",
    "X_train = scaler.fit_transform(X_train_org)\n",
    "X_test = scaler.transform(X_test_org)"
   ]
  },
  {
   "cell_type": "code",
   "execution_count": 27,
   "metadata": {},
   "outputs": [],
   "source": [
    "from  sklearn.linear_model import Ridge\n",
    "from sklearn.ensemble import BaggingRegressor\n",
    "\n",
    "ltr_clf = Ridge(alpha = 10)\n",
    "bag_clf = BaggingRegressor(lr_clf, n_estimators=500, bootstrap= False, max_features=10, random_state = 0)"
   ]
  },
  {
   "cell_type": "code",
   "execution_count": 28,
   "metadata": {},
   "outputs": [
    {
     "data": {
      "text/plain": [
       "0.6147246601652339"
      ]
     },
     "execution_count": 28,
     "metadata": {},
     "output_type": "execute_result"
    }
   ],
   "source": [
    "bag_clf.fit(X_train, y_train)\n",
    "bag_clf.score(X_test, y_test)"
   ]
  },
  {
   "cell_type": "code",
   "execution_count": 29,
   "metadata": {},
   "outputs": [
    {
     "data": {
      "text/plain": [
       "0.5986267926187404"
      ]
     },
     "execution_count": 29,
     "metadata": {},
     "output_type": "execute_result"
    }
   ],
   "source": [
    "bag_clf.score(X_train, y_train)"
   ]
  },
  {
   "cell_type": "code",
   "execution_count": 30,
   "metadata": {},
   "outputs": [
    {
     "data": {
      "text/plain": [
       "(16197, 13)"
      ]
     },
     "execution_count": 30,
     "metadata": {},
     "output_type": "execute_result"
    }
   ],
   "source": [
    "X_train.shape"
   ]
  },
  {
   "cell_type": "markdown",
   "metadata": {},
   "source": [
    "## Lasso"
   ]
  },
  {
   "cell_type": "code",
   "execution_count": 31,
   "metadata": {},
   "outputs": [],
   "source": [
    "from sklearn.linear_model import Lasso\n",
    "from sklearn.ensemble import BaggingRegressor\n",
    "\n",
    "ltr_clf = Lasso(alpha = 100)\n",
    "bag_clf = BaggingRegressor(lr_clf, n_estimators=500, bootstrap= False, max_features=10, random_state = 0)"
   ]
  },
  {
   "cell_type": "code",
   "execution_count": 32,
   "metadata": {},
   "outputs": [
    {
     "data": {
      "text/plain": [
       "0.6147246601652339"
      ]
     },
     "execution_count": 32,
     "metadata": {},
     "output_type": "execute_result"
    }
   ],
   "source": [
    "bag_clf.fit(X_train, y_train)\n",
    "bag_clf.score(X_test, y_test)"
   ]
  },
  {
   "cell_type": "code",
   "execution_count": 33,
   "metadata": {},
   "outputs": [
    {
     "data": {
      "text/plain": [
       "0.5986267926187404"
      ]
     },
     "execution_count": 33,
     "metadata": {},
     "output_type": "execute_result"
    }
   ],
   "source": [
    "bag_clf.score(X_train, y_train)"
   ]
  },
  {
   "cell_type": "code",
   "execution_count": 34,
   "metadata": {},
   "outputs": [
    {
     "data": {
      "text/plain": [
       "(16197, 13)"
      ]
     },
     "execution_count": 34,
     "metadata": {},
     "output_type": "execute_result"
    }
   ],
   "source": [
    "X_train.shape"
   ]
  },
  {
   "cell_type": "markdown",
   "metadata": {},
   "source": [
    "# AdaBoost"
   ]
  },
  {
   "cell_type": "code",
   "execution_count": 35,
   "metadata": {},
   "outputs": [],
   "source": [
    "X_train_org, X_test_org, y_train, y_test = train_test_split(X, y, random_state = 0)\n",
    "\n",
    "scaler = StandardScaler()\n",
    "X_train = scaler.fit_transform(X_train_org)\n",
    "X_test = scaler.transform(X_test_org)"
   ]
  },
  {
   "cell_type": "markdown",
   "metadata": {},
   "source": [
    "## Linear Regression"
   ]
  },
  {
   "cell_type": "code",
   "execution_count": 36,
   "metadata": {},
   "outputs": [
    {
     "data": {
      "text/plain": [
       "AdaBoostRegressor(base_estimator=LinearRegression(copy_X=True, fit_intercept=True, n_jobs=None,\n",
       "         normalize=False),\n",
       "         learning_rate=0.5, loss='linear', n_estimators=200,\n",
       "         random_state=0)"
      ]
     },
     "execution_count": 36,
     "metadata": {},
     "output_type": "execute_result"
    }
   ],
   "source": [
    "from sklearn.ensemble import AdaBoostRegressor\n",
    "\n",
    "ada_clf = AdaBoostRegressor(LinearRegression(), n_estimators=200, learning_rate=0.5, random_state=0)\n",
    "ada_clf.fit(X_train, y_train)"
   ]
  },
  {
   "cell_type": "code",
   "execution_count": 37,
   "metadata": {},
   "outputs": [
    {
     "data": {
      "text/plain": [
       "0.3054605004442804"
      ]
     },
     "execution_count": 37,
     "metadata": {},
     "output_type": "execute_result"
    }
   ],
   "source": [
    "ada_clf.score(X_train, y_train)"
   ]
  },
  {
   "cell_type": "code",
   "execution_count": 38,
   "metadata": {},
   "outputs": [
    {
     "data": {
      "text/plain": [
       "0.19079377368947759"
      ]
     },
     "execution_count": 38,
     "metadata": {},
     "output_type": "execute_result"
    }
   ],
   "source": [
    "ada_clf.score(X_test, y_test)"
   ]
  },
  {
   "cell_type": "markdown",
   "metadata": {},
   "source": [
    "## KNN Regression"
   ]
  },
  {
   "cell_type": "code",
   "execution_count": 39,
   "metadata": {},
   "outputs": [
    {
     "data": {
      "text/plain": [
       "AdaBoostRegressor(base_estimator=KNeighborsRegressor(algorithm='auto', leaf_size=30, metric='minkowski',\n",
       "          metric_params=None, n_jobs=None, n_neighbors=7, p=2,\n",
       "          weights='uniform'),\n",
       "         learning_rate=0.5, loss='linear', n_estimators=200,\n",
       "         random_state=0)"
      ]
     },
     "execution_count": 39,
     "metadata": {},
     "output_type": "execute_result"
    }
   ],
   "source": [
    "from sklearn.ensemble import AdaBoostRegressor\n",
    "\n",
    "ada_clf = AdaBoostRegressor(KNeighborsRegressor(7), n_estimators=200, learning_rate=0.5, random_state=0)\n",
    "ada_clf.fit(X_train, y_train)"
   ]
  },
  {
   "cell_type": "code",
   "execution_count": 40,
   "metadata": {},
   "outputs": [
    {
     "data": {
      "text/plain": [
       "0.8795975251759522"
      ]
     },
     "execution_count": 40,
     "metadata": {},
     "output_type": "execute_result"
    }
   ],
   "source": [
    "ada_clf.score(X_train, y_train)"
   ]
  },
  {
   "cell_type": "code",
   "execution_count": 41,
   "metadata": {},
   "outputs": [
    {
     "data": {
      "text/plain": [
       "0.44615099836173344"
      ]
     },
     "execution_count": 41,
     "metadata": {},
     "output_type": "execute_result"
    }
   ],
   "source": [
    "ada_clf.score(X_test, y_test)"
   ]
  },
  {
   "cell_type": "markdown",
   "metadata": {},
   "source": [
    "# Gradient Boost"
   ]
  },
  {
   "cell_type": "code",
   "execution_count": 42,
   "metadata": {},
   "outputs": [],
   "source": [
    "from sklearn.ensemble import GradientBoostingRegressor\n",
    "\n",
    "gd_clf = GradientBoostingRegressor(max_depth= 1, n_estimators= 50, learning_rate= 0.1, random_state= 0)"
   ]
  },
  {
   "cell_type": "code",
   "execution_count": 43,
   "metadata": {},
   "outputs": [
    {
     "data": {
      "text/plain": [
       "GradientBoostingRegressor(alpha=0.9, criterion='friedman_mse', init=None,\n",
       "             learning_rate=0.1, loss='ls', max_depth=1, max_features=None,\n",
       "             max_leaf_nodes=None, min_impurity_decrease=0.0,\n",
       "             min_impurity_split=None, min_samples_leaf=1,\n",
       "             min_samples_split=2, min_weight_fraction_leaf=0.0,\n",
       "             n_estimators=50, n_iter_no_change=None, presort='auto',\n",
       "             random_state=0, subsample=1.0, tol=0.0001,\n",
       "             validation_fraction=0.1, verbose=0, warm_start=False)"
      ]
     },
     "execution_count": 43,
     "metadata": {},
     "output_type": "execute_result"
    }
   ],
   "source": [
    "gd_clf.fit(X_train, y_train)"
   ]
  },
  {
   "cell_type": "code",
   "execution_count": 44,
   "metadata": {},
   "outputs": [
    {
     "data": {
      "text/plain": [
       "0.5781798637530431"
      ]
     },
     "execution_count": 44,
     "metadata": {},
     "output_type": "execute_result"
    }
   ],
   "source": [
    "gd_clf.score(X_train, y_train)"
   ]
  },
  {
   "cell_type": "code",
   "execution_count": 45,
   "metadata": {},
   "outputs": [
    {
     "data": {
      "text/plain": [
       "0.5579576420595869"
      ]
     },
     "execution_count": 45,
     "metadata": {},
     "output_type": "execute_result"
    }
   ],
   "source": [
    "gd_clf.score(X_test, y_test)"
   ]
  },
  {
   "cell_type": "markdown",
   "metadata": {},
   "source": [
    "# PCA"
   ]
  },
  {
   "cell_type": "code",
   "execution_count": 46,
   "metadata": {},
   "outputs": [
    {
     "data": {
      "text/plain": [
       "(21597, 13)"
      ]
     },
     "execution_count": 46,
     "metadata": {},
     "output_type": "execute_result"
    }
   ],
   "source": [
    "X.shape"
   ]
  },
  {
   "cell_type": "code",
   "execution_count": 47,
   "metadata": {},
   "outputs": [],
   "source": [
    "from sklearn.decomposition import PCA\n",
    "\n",
    "pca = PCA(n_components= 0.95)\n",
    "pca.fit(X_train)\n",
    "X_train_reduced = pca.transform(X_train)"
   ]
  },
  {
   "cell_type": "code",
   "execution_count": 48,
   "metadata": {},
   "outputs": [
    {
     "data": {
      "text/plain": [
       "(16197, 10)"
      ]
     },
     "execution_count": 48,
     "metadata": {},
     "output_type": "execute_result"
    }
   ],
   "source": [
    "X_train_reduced.shape"
   ]
  },
  {
   "cell_type": "code",
   "execution_count": 49,
   "metadata": {},
   "outputs": [],
   "source": [
    "X_test_reduced = pca.transform(X_test)"
   ]
  },
  {
   "cell_type": "markdown",
   "metadata": {},
   "source": [
    "# K Neighbors Regressor"
   ]
  },
  {
   "cell_type": "code",
   "execution_count": 50,
   "metadata": {
    "scrolled": true
   },
   "outputs": [
    {
     "data": {
      "text/plain": [
       "Text(0, 0.5, 'MSE')"
      ]
     },
     "execution_count": 50,
     "metadata": {},
     "output_type": "execute_result"
    },
    {
     "data": {
      "image/png": "[encoded data removed]",
      "text/plain": [
       "<Figure size 432x288 with 1 Axes>"
      ]
     },
     "metadata": {
      "needs_background": "light"
     },
     "output_type": "display_data"
    }
   ],
   "source": [
    "import matplotlib.pyplot as plt\n",
    "from pandas.plotting import scatter_matrix\n",
    "from sklearn.neighbors import KNeighborsRegressor\n",
    "%matplotlib inline\n",
    "train_score_array = []\n",
    "test_score_array = []\n",
    "\n",
    "for k in range(1,20):\n",
    "    knn_reg = KNeighborsRegressor(k)\n",
    "    knn_reg.fit(X_train_reduced, y_train)\n",
    "    train_score_array.append(knn_reg.score(X_train_reduced, y_train))\n",
    "    test_score_array.append(knn_reg.score(X_test_reduced, y_test))\n",
    "\n",
    "x_axis = range(1,20)\n",
    "plt.plot(x_axis, train_score_array, c = 'g', label = 'Train Score')\n",
    "plt.plot(x_axis, test_score_array, c = 'b', label = 'Test Score')\n",
    "plt.legend()\n",
    "plt.xlabel('k')\n",
    "plt.ylabel('MSE')"
   ]
  },
  {
   "cell_type": "markdown",
   "metadata": {},
   "source": [
    "k=7 is the best choice"
   ]
  },
  {
   "cell_type": "code",
   "execution_count": 51,
   "metadata": {},
   "outputs": [
    {
     "data": {
      "text/plain": [
       "KNeighborsRegressor(algorithm='auto', leaf_size=30, metric='minkowski',\n",
       "          metric_params=None, n_jobs=None, n_neighbors=7, p=2,\n",
       "          weights='uniform')"
      ]
     },
     "execution_count": 51,
     "metadata": {},
     "output_type": "execute_result"
    }
   ],
   "source": [
    "knn = KNeighborsRegressor(7)\n",
    "knn.fit(X_train_reduced, y_train)"
   ]
  },
  {
   "cell_type": "code",
   "execution_count": 52,
   "metadata": {},
   "outputs": [
    {
     "name": "stdout",
     "output_type": "stream",
     "text": [
      "Train score : 0.7156416438002433\n",
      "Test score : 0.6201257084524656\n"
     ]
    }
   ],
   "source": [
    "print(\"Train score :\", knn.score(X_train_reduced, y_train))\n",
    "print(\"Test score :\", knn.score(X_test_reduced, y_test))"
   ]
  },
  {
   "cell_type": "code",
   "execution_count": 53,
   "metadata": {},
   "outputs": [
    {
     "name": "stdout",
     "output_type": "stream",
     "text": [
      "Mean Absoulte Error is : 136725.2582413877\n",
      "Mean Squared Error is : 42902378539.75499\n",
      "R-sqaure score is:  0.6201257084524656\n"
     ]
    }
   ],
   "source": [
    "y_pred= knn.predict(X_test_reduced)\n",
    "\n",
    "print(\"Mean Absoulte Error is :\",mean_absolute_error(y_test, y_pred))\n",
    "print(\"Mean Squared Error is :\",mean_squared_error(y_test, y_pred))\n",
    "print(\"R-sqaure score is: \",r2_score(y_test, y_pred))"
   ]
  },
  {
   "cell_type": "markdown",
   "metadata": {},
   "source": [
    "# Linear regression using the Normal Equation"
   ]
  },
  {
   "cell_type": "code",
   "execution_count": 54,
   "metadata": {},
   "outputs": [
    {
     "name": "stdout",
     "output_type": "stream",
     "text": [
      "Train score : 0.6007430663381426\n",
      "Test score : 0.6147607011943719\n"
     ]
    }
   ],
   "source": [
    "from sklearn.linear_model import LinearRegression\n",
    "\n",
    "lreg = LinearRegression()\n",
    "lreg.fit(X_train_reduced, y_train)\n",
    "print(\"Train score :\",lreg.score(X_train_reduced, y_train))\n",
    "print(\"Test score :\",lreg.score(X_test_reduced, y_test))"
   ]
  },
  {
   "cell_type": "code",
   "execution_count": 55,
   "metadata": {},
   "outputs": [
    {
     "name": "stdout",
     "output_type": "stream",
     "text": [
      "Mean Absoulte Error is : 142146.72684490512\n",
      "Mean Squared Error is : 43508293647.40178\n",
      "R-sqaure score is:  0.6147607011943719\n"
     ]
    }
   ],
   "source": [
    "y_pred = lreg.predict(X_test_reduced)\n",
    "print(\"Mean Absoulte Error is :\",mean_absolute_error(y_test, y_pred))\n",
    "print(\"Mean Squared Error is :\",mean_squared_error(y_test, y_pred))\n",
    "print(\"R-sqaure score is: \",r2_score(y_test, y_pred))"
   ]
  },
  {
   "cell_type": "markdown",
   "metadata": {},
   "source": [
    "# SGD Regressor"
   ]
  },
  {
   "cell_type": "code",
   "execution_count": 56,
   "metadata": {},
   "outputs": [
    {
     "name": "stderr",
     "output_type": "stream",
     "text": [
      "C:\\Users\\akhil\\AppData\\Local\\Continuum\\anaconda3\\lib\\site-packages\\sklearn\\linear_model\\stochastic_gradient.py:183: FutureWarning: max_iter and tol parameters have been added in SGDRegressor in 0.19. If max_iter is set but tol is left unset, the default value for tol in 0.19 and 0.20 will be None (which is equivalent to -infinity, so it has no effect) but will change in 0.21 to 1e-3. Specify tol to silence this warning.\n",
      "  FutureWarning)\n"
     ]
    },
    {
     "name": "stdout",
     "output_type": "stream",
     "text": [
      "Train Score is:  0.6007429176531465\n",
      "Test Score is:  0.6148032563694815\n"
     ]
    }
   ],
   "source": [
    "from sklearn.linear_model import SGDRegressor\n",
    "\n",
    "sgd_reg = SGDRegressor(random_state= 0, max_iter = 100000, learning_rate = 'optimal', penalty = 'l2')\n",
    "sgd_reg.fit(X_train_reduced, y_train)\n",
    "print(\"Train Score is: \", sgd_reg.score(X_train_reduced, y_train))\n",
    "print(\"Test Score is: \",sgd_reg.score(X_test_reduced, y_test))"
   ]
  },
  {
   "cell_type": "code",
   "execution_count": 57,
   "metadata": {},
   "outputs": [
    {
     "data": {
      "text/plain": [
       "array([111454.55968216,  90863.27368552, -36286.83303365,   5118.93958492,\n",
       "        -3665.14546932, -37088.50239879, -57755.38295138, -58029.71706792,\n",
       "       -87855.34639144, -65143.58471969])"
      ]
     },
     "execution_count": 57,
     "metadata": {},
     "output_type": "execute_result"
    }
   ],
   "source": [
    "sgd_reg.coef_"
   ]
  },
  {
   "cell_type": "code",
   "execution_count": 58,
   "metadata": {},
   "outputs": [
    {
     "data": {
      "text/plain": [
       "array([542970.02703468])"
      ]
     },
     "execution_count": 58,
     "metadata": {},
     "output_type": "execute_result"
    }
   ],
   "source": [
    "sgd_reg.intercept_"
   ]
  },
  {
   "cell_type": "code",
   "execution_count": 59,
   "metadata": {},
   "outputs": [
    {
     "data": {
      "text/plain": [
       "100000"
      ]
     },
     "execution_count": 59,
     "metadata": {},
     "output_type": "execute_result"
    }
   ],
   "source": [
    "sgd_reg.n_iter_"
   ]
  },
  {
   "cell_type": "code",
   "execution_count": 60,
   "metadata": {},
   "outputs": [
    {
     "name": "stdout",
     "output_type": "stream",
     "text": [
      "Mean Absoulte Error is : 142125.8024080242\n",
      "Mean Squared Error is : 43503487535.822235\n",
      "R-sqaure score is:  0.6148032563694815\n"
     ]
    }
   ],
   "source": [
    "y_pred = sgd_reg.predict(X_test_reduced)\n",
    "print(\"Mean Absoulte Error is :\",mean_absolute_error(y_test, y_pred))\n",
    "print(\"Mean Squared Error is :\",mean_squared_error(y_test, y_pred))\n",
    "print(\"R-sqaure score is: \",r2_score(y_test, y_pred))"
   ]
  },
  {
   "cell_type": "markdown",
   "metadata": {},
   "source": [
    "# Polynomial regression"
   ]
  },
  {
   "cell_type": "code",
   "execution_count": 61,
   "metadata": {},
   "outputs": [],
   "source": [
    "from  sklearn.preprocessing  import PolynomialFeatures\n",
    "\n",
    "train_score_list = []\n",
    "test_score_list = []\n",
    "\n",
    "for n in range(1,3):\n",
    "    poly = PolynomialFeatures(n)\n",
    "    X_train_poly = poly.fit_transform(X_train_reduced)\n",
    "    X_test_poly = poly.transform(X_test_reduced)\n",
    "    lreg.fit(X_train_poly, y_train)\n",
    "    train_score_list.append(lreg.score(X_train_poly, y_train))\n",
    "    test_score_list.append(lreg.score(X_test_poly, y_test))"
   ]
  },
  {
   "cell_type": "code",
   "execution_count": 62,
   "metadata": {},
   "outputs": [
    {
     "name": "stdout",
     "output_type": "stream",
     "text": [
      "[0.6007430663381426, 0.6805659133225694]\n",
      "[0.6147607011943719, 0.6539874126942656]\n"
     ]
    }
   ],
   "source": [
    "print(train_score_list)\n",
    "print(test_score_list)"
   ]
  },
  {
   "cell_type": "code",
   "execution_count": 63,
   "metadata": {},
   "outputs": [
    {
     "data": {
      "text/plain": [
       "<matplotlib.legend.Legend at 0x2d00672db00>"
      ]
     },
     "execution_count": 63,
     "metadata": {},
     "output_type": "execute_result"
    },
    {
     "data": {
      "image/png": "[encoded data removed]",
      "text/plain": [
       "<Figure size 432x288 with 1 Axes>"
      ]
     },
     "metadata": {
      "needs_background": "light"
     },
     "output_type": "display_data"
    }
   ],
   "source": [
    "%matplotlib inline\n",
    "\n",
    "x_axis = range(1,3)\n",
    "plt.plot(x_axis, train_score_list, c = 'g', label = 'Train Score')\n",
    "plt.plot(x_axis, test_score_list, c = 'b', label = 'Test Score')\n",
    "plt.xlabel('degree')\n",
    "plt.ylabel('accuracy')\n",
    "plt.legend()"
   ]
  },
  {
   "cell_type": "code",
   "execution_count": 64,
   "metadata": {},
   "outputs": [
    {
     "data": {
      "text/plain": [
       "[<matplotlib.lines.Line2D at 0x2d006774da0>]"
      ]
     },
     "execution_count": 64,
     "metadata": {},
     "output_type": "execute_result"
    },
    {
     "data": {
      "image/png": "[encoded data removed]",
      "text/plain": [
       "<Figure size 432x288 with 1 Axes>"
      ]
     },
     "metadata": {
      "needs_background": "light"
     },
     "output_type": "display_data"
    }
   ],
   "source": [
    "poly = PolynomialFeatures(1)\n",
    "X_train_1 = X_train_reduced[:,0].reshape(-1,1)\n",
    "X_test_1 = X_test_reduced[:,0].reshape(-1,1)\n",
    "X_train_poly = poly.fit_transform(X_train_1)\n",
    "lreg.fit(X_train_poly, y_train)\n",
    "\n",
    "x_axis = np.linspace(0,1,100).reshape(-1,1)\n",
    "x_poly = poly.transform(X_test_1)\n",
    "y_predict = lreg.predict(x_poly)\n",
    "\n",
    "plt.scatter(X_train_1,y_train)\n",
    "plt.plot(X_test_1, y_predict, c='r')"
   ]
  },
  {
   "cell_type": "markdown",
   "metadata": {},
   "source": [
    "# Ridge"
   ]
  },
  {
   "cell_type": "code",
   "execution_count": 65,
   "metadata": {},
   "outputs": [],
   "source": [
    "from sklearn.preprocessing import MinMaxScaler\n",
    "scaler = MinMaxScaler()\n",
    "X_train = scaler.fit_transform(X_train_org)\n",
    "X_test = scaler.transform(X_test_org)"
   ]
  },
  {
   "cell_type": "code",
   "execution_count": 66,
   "metadata": {},
   "outputs": [],
   "source": [
    "from sklearn.decomposition import PCA\n",
    "\n",
    "pca = PCA(n_components= 0.95)\n",
    "pca.fit(X_train)\n",
    "X_train_reduced = pca.transform(X_train)"
   ]
  },
  {
   "cell_type": "code",
   "execution_count": 67,
   "metadata": {},
   "outputs": [
    {
     "data": {
      "text/plain": [
       "(16197, 8)"
      ]
     },
     "execution_count": 67,
     "metadata": {},
     "output_type": "execute_result"
    }
   ],
   "source": [
    "X_train_reduced.shape"
   ]
  },
  {
   "cell_type": "code",
   "execution_count": 68,
   "metadata": {},
   "outputs": [],
   "source": [
    "X_test_reduced = pca.transform(X_test)"
   ]
  },
  {
   "cell_type": "code",
   "execution_count": 69,
   "metadata": {},
   "outputs": [],
   "source": [
    "from  sklearn.linear_model import Ridge\n",
    "\n",
    "x_range = [0.01, 0.1, 1, 10, 100]\n",
    "train_score_list = []\n",
    "test_score_list = []\n",
    "\n",
    "for alpha in x_range: \n",
    "    ridge = Ridge(alpha)\n",
    "    ridge.fit(X_train_reduced,y_train)\n",
    "    train_score_list.append(ridge.score(X_train_reduced,y_train))\n",
    "    test_score_list.append(ridge.score(X_test_reduced, y_test))"
   ]
  },
  {
   "cell_type": "code",
   "execution_count": 70,
   "metadata": {
    "scrolled": true
   },
   "outputs": [
    {
     "data": {
      "text/plain": [
       "Text(0.5, 0, '$\\\\alpha$')"
      ]
     },
     "execution_count": 70,
     "metadata": {},
     "output_type": "execute_result"
    },
    {
     "data": {
      "image/png": "[encoded data removed]",
      "text/plain": [
       "<Figure size 432x288 with 1 Axes>"
      ]
     },
     "metadata": {
      "needs_background": "light"
     },
     "output_type": "display_data"
    }
   ],
   "source": [
    "%matplotlib inline\n",
    "import matplotlib.pyplot as plt\n",
    "plt.plot(x_range, train_score_list, c = 'g', label = 'Train Score')\n",
    "plt.plot(x_range, test_score_list, c = 'b', label = 'Test Score')\n",
    "plt.xscale('log')\n",
    "plt.legend(loc = 3)\n",
    "plt.xlabel(r'$\\alpha$')"
   ]
  },
  {
   "cell_type": "code",
   "execution_count": 71,
   "metadata": {},
   "outputs": [
    {
     "name": "stdout",
     "output_type": "stream",
     "text": [
      "[0.5934321385617065, 0.5934320853661716, 0.5934268214050162, 0.592950429761624, 0.5692622889261478]\n",
      "[0.6132009998838508, 0.6132143576718083, 0.6133423143454901, 0.6141139668118485, 0.5975325950443005]\n"
     ]
    }
   ],
   "source": [
    "print(train_score_list)\n",
    "print(test_score_list)"
   ]
  },
  {
   "cell_type": "code",
   "execution_count": 72,
   "metadata": {},
   "outputs": [
    {
     "data": {
      "image/png": "[encoded data removed]",
      "text/plain": [
       "<Figure size 432x288 with 1 Axes>"
      ]
     },
     "metadata": {
      "needs_background": "light"
     },
     "output_type": "display_data"
    }
   ],
   "source": [
    "%matplotlib inline\n",
    "import numpy as np\n",
    "\n",
    "x_range1 = np.linspace(0.001, 1, 100).reshape(-1,1)\n",
    "x_range2 = np.linspace(1, 10000, 10000).reshape(-1,1)\n",
    "\n",
    "x_range = np.append(x_range1, x_range2)\n",
    "coeff = []\n",
    "\n",
    "for alpha in x_range: \n",
    "    ridge = Ridge(alpha)\n",
    "    ridge.fit(X_train_reduced,y_train)\n",
    "    coeff.append(ridge.coef_ )\n",
    "    \n",
    "coeff = np.array(coeff)\n",
    "\n",
    "for i in range(0,8):\n",
    "    plt.plot(x_range, coeff[:,i], label = 'feature {:d}'.format(i))\n",
    "\n",
    "plt.axhline(y=0, xmin=0.001, xmax=9999, linewidth=1, c ='gray')\n",
    "plt.xlabel(r'$\\alpha$')\n",
    "plt.xscale('log')\n",
    "plt.legend(loc='upper center', bbox_to_anchor=(0.5, 1.5),\n",
    "          ncol=3, fancybox=True, shadow=True)\n",
    "plt.show()"
   ]
  },
  {
   "cell_type": "markdown",
   "metadata": {},
   "source": [
    "This suggests that the best $\\alpha$ parameter is 10"
   ]
  },
  {
   "cell_type": "code",
   "execution_count": 73,
   "metadata": {},
   "outputs": [
    {
     "name": "stdout",
     "output_type": "stream",
     "text": [
      "Train score: 0.5930\n",
      "Test score: 0.6141\n"
     ]
    }
   ],
   "source": [
    "ridge = Ridge(alpha = 10)\n",
    "ridge.fit(X_train_reduced,y_train)\n",
    "print('Train score: {:.4f}'.format(ridge.score(X_train_reduced,y_train)))\n",
    "print('Test score: {:.4f}'.format(ridge.score(X_test_reduced, y_test)))"
   ]
  },
  {
   "cell_type": "code",
   "execution_count": 74,
   "metadata": {},
   "outputs": [
    {
     "data": {
      "text/plain": [
       "array([ 288300.47118934,  886039.65859716,  397950.48217106,\n",
       "        286587.62664194, -462173.17972222, 1017407.92573355,\n",
       "        444692.33383724,  504268.61937225])"
      ]
     },
     "execution_count": 74,
     "metadata": {},
     "output_type": "execute_result"
    }
   ],
   "source": [
    "ridge.coef_"
   ]
  },
  {
   "cell_type": "code",
   "execution_count": 75,
   "metadata": {},
   "outputs": [
    {
     "data": {
      "text/plain": [
       "542963.2777731449"
      ]
     },
     "execution_count": 75,
     "metadata": {},
     "output_type": "execute_result"
    }
   ],
   "source": [
    "ridge.intercept_"
   ]
  },
  {
   "cell_type": "code",
   "execution_count": 76,
   "metadata": {},
   "outputs": [
    {
     "name": "stdout",
     "output_type": "stream",
     "text": [
      "Mean Absoulte Error is : 141269.0535585147\n",
      "Mean Squared Error is : 43581334766.29577\n",
      "R-sqaure score is:  0.6141139668118485\n"
     ]
    }
   ],
   "source": [
    "y_pred = ridge.predict(X_test_reduced)\n",
    "print(\"Mean Absoulte Error is :\",mean_absolute_error(y_test, y_pred))\n",
    "print(\"Mean Squared Error is :\",mean_squared_error(y_test, y_pred))\n",
    "print(\"R-sqaure score is: \",r2_score(y_test, y_pred))"
   ]
  },
  {
   "cell_type": "markdown",
   "metadata": {},
   "source": [
    "# LASSO"
   ]
  },
  {
   "cell_type": "code",
   "execution_count": 77,
   "metadata": {},
   "outputs": [],
   "source": [
    "from sklearn.linear_model import Lasso\n",
    "x_range = [0.01, 0.1, 1, 10, 100]\n",
    "train_score_list = []\n",
    "test_score_list = []\n",
    "\n",
    "for alpha in x_range: \n",
    "    lasso = Lasso(alpha)\n",
    "    lasso.fit(X_train_reduced,y_train)\n",
    "    train_score_list.append(lasso.score(X_train_reduced,y_train))\n",
    "    test_score_list.append(lasso.score(X_test_reduced, y_test))"
   ]
  },
  {
   "cell_type": "code",
   "execution_count": 78,
   "metadata": {},
   "outputs": [
    {
     "data": {
      "text/plain": [
       "Text(0.5, 0, '$\\\\alpha$')"
      ]
     },
     "execution_count": 78,
     "metadata": {},
     "output_type": "execute_result"
    },
    {
     "data": {
      "image/png": "[encoded data removed]",
      "text/plain": [
       "<Figure size 432x288 with 1 Axes>"
      ]
     },
     "metadata": {
      "needs_background": "light"
     },
     "output_type": "display_data"
    }
   ],
   "source": [
    "plt.plot(x_range, train_score_list, c = 'g', label = 'Train Score')\n",
    "plt.plot(x_range, test_score_list, c = 'b', label = 'Test Score')\n",
    "plt.xscale('log')\n",
    "plt.legend(loc = 3)\n",
    "plt.xlabel(r'$\\alpha$')"
   ]
  },
  {
   "cell_type": "code",
   "execution_count": 79,
   "metadata": {},
   "outputs": [
    {
     "data": {
      "image/png": "[encoded data removed]",
      "text/plain": [
       "<Figure size 432x288 with 1 Axes>"
      ]
     },
     "metadata": {
      "needs_background": "light"
     },
     "output_type": "display_data"
    }
   ],
   "source": [
    "%matplotlib inline\n",
    "\n",
    "x_range1 = np.linspace(0.001, 1, 1000).reshape(-1,1)\n",
    "x_range2 = np.linspace(1, 1000, 1000).reshape(-1,1)\n",
    "\n",
    "x_range = np.append(x_range1, x_range2)\n",
    "coeff = []\n",
    "\n",
    "for alpha in x_range: \n",
    "    lasso = Lasso(alpha)\n",
    "    lasso.fit(X_train_reduced,y_train)\n",
    "    coeff.append(lasso.coef_ )\n",
    "    \n",
    "coeff = np.array(coeff)\n",
    "\n",
    "for i in range(0,8):\n",
    "    plt.plot(x_range, coeff[:,i], label = 'feature {:d}'.format(i))\n",
    "\n",
    "plt.axhline(y=0, xmin=0.001, xmax=9999, linewidth=1, c ='gray')\n",
    "plt.xlabel(r'$\\alpha$')\n",
    "plt.xscale('log')\n",
    "plt.legend(loc='upper center', bbox_to_anchor=(0.5, 1.5),\n",
    "          ncol=3, fancybox=True, shadow=True)\n",
    "plt.show()"
   ]
  },
  {
   "cell_type": "markdown",
   "metadata": {},
   "source": [
    "This suggests that the best $\\alpha$ parameter is 100"
   ]
  },
  {
   "cell_type": "code",
   "execution_count": 80,
   "metadata": {},
   "outputs": [
    {
     "name": "stdout",
     "output_type": "stream",
     "text": [
      "Train score: 0.5934\n",
      "Test score: 0.6134\n"
     ]
    }
   ],
   "source": [
    "lasso = Lasso(alpha = 100)\n",
    "lasso.fit(X_train_reduced,y_train)\n",
    "print('Train score: {:.4f}'.format(lasso.score(X_train_reduced,y_train)))\n",
    "print('Test score: {:.4f}'.format(lasso.score(X_test_reduced, y_test)))"
   ]
  },
  {
   "cell_type": "code",
   "execution_count": 81,
   "metadata": {},
   "outputs": [
    {
     "name": "stdout",
     "output_type": "stream",
     "text": [
      "Mean Absoulte Error is : 142072.96348904914\n",
      "Mean Squared Error is : 43663877736.65567\n",
      "R-sqaure score is:  0.6133830993528651\n"
     ]
    }
   ],
   "source": [
    "y_pred= lasso.predict(X_test_reduced)\n",
    "print(\"Mean Absoulte Error is :\",mean_absolute_error(y_test, y_pred))\n",
    "print(\"Mean Squared Error is :\",mean_squared_error(y_test, y_pred))\n",
    "print(\"R-sqaure score is: \",r2_score(y_test, y_pred))"
   ]
  },
  {
   "cell_type": "markdown",
   "metadata": {},
   "source": [
    "# Linear SVM"
   ]
  },
  {
   "cell_type": "code",
   "execution_count": 82,
   "metadata": {},
   "outputs": [
    {
     "name": "stdout",
     "output_type": "stream",
     "text": [
      "Train score : -2.072657485214923\n",
      "Test score : -2.3860123291823063\n"
     ]
    }
   ],
   "source": [
    "from sklearn.svm import LinearSVR\n",
    "\n",
    "l_svr = LinearSVR(random_state=0)\n",
    "\n",
    "l_svr.fit(X_train_reduced,y_train)\n",
    "\n",
    "print(\"Train score :\",l_svr.score(X_train_reduced, y_train))\n",
    "print(\"Test score :\",l_svr.score(X_test_reduced, y_test))"
   ]
  },
  {
   "cell_type": "code",
   "execution_count": 83,
   "metadata": {},
   "outputs": [
    {
     "data": {
      "image/png": "[encoded data removed]",
      "text/plain": [
       "<Figure size 432x288 with 1 Axes>"
      ]
     },
     "metadata": {
      "needs_background": "light"
     },
     "output_type": "display_data"
    }
   ],
   "source": [
    "import matplotlib.pyplot as plt \n",
    "X_test1 = X_test_reduced[:, 0:1]\n",
    "plt.scatter(X_test1, y_test, s=5, color=\"blue\", label=\"original\")\n",
    "plt.plot(X_test1, y_pred, lw=1.5, color=\"red\", label=\"predicted\")\n",
    "plt.legend()\n",
    "plt.show() "
   ]
  },
  {
   "cell_type": "code",
   "execution_count": 84,
   "metadata": {},
   "outputs": [
    {
     "name": "stdout",
     "output_type": "stream",
     "text": [
      "Mean Absoulte Error is : 519107.2272727945\n",
      "Mean Squared Error is : 382410670896.0566\n",
      "R-sqaure score is:  -2.3860123291823063\n"
     ]
    }
   ],
   "source": [
    "y_pred = l_svr.predict(X_test_reduced)\n",
    "print(\"Mean Absoulte Error is :\",mean_absolute_error(y_test, y_pred))\n",
    "print(\"Mean Squared Error is :\",mean_squared_error(y_test, y_pred))\n",
    "print(\"R-sqaure score is: \",r2_score(y_test, y_pred))"
   ]
  },
  {
   "cell_type": "markdown",
   "metadata": {},
   "source": [
    "# SVM with Kernal"
   ]
  },
  {
   "cell_type": "code",
   "execution_count": 85,
   "metadata": {},
   "outputs": [
    {
     "name": "stderr",
     "output_type": "stream",
     "text": [
      "C:\\Users\\akhil\\AppData\\Local\\Continuum\\anaconda3\\lib\\site-packages\\sklearn\\svm\\base.py:196: FutureWarning: The default value of gamma will change from 'auto' to 'scale' in version 0.22 to account better for unscaled features. Set gamma explicitly to 'auto' or 'scale' to avoid this warning.\n",
      "  \"avoid this warning.\", FutureWarning)\n"
     ]
    },
    {
     "name": "stdout",
     "output_type": "stream",
     "text": [
      "Train score : -0.04043826477383572\n",
      "Test score : -0.03846424313859065\n"
     ]
    }
   ],
   "source": [
    "from sklearn.svm import SVR\n",
    "\n",
    "svr = SVR(kernel = 'rbf')\n",
    "\n",
    "svr.fit(X_train_reduced,y_train)\n",
    "\n",
    "print(\"Train score :\",svr.score(X_train_reduced, y_train))\n",
    "print(\"Test score :\",svr.score(X_test_reduced, y_test))"
   ]
  },
  {
   "cell_type": "code",
   "execution_count": 86,
   "metadata": {},
   "outputs": [
    {
     "data": {
      "image/png": "[encoded data removed]",
      "text/plain": [
       "<Figure size 432x288 with 1 Axes>"
      ]
     },
     "metadata": {
      "needs_background": "light"
     },
     "output_type": "display_data"
    }
   ],
   "source": [
    "import matplotlib.pyplot as plt \n",
    "X_test1 = X_test_reduced[:, 0:1]\n",
    "plt.scatter(X_test1, y_test, s=5, color=\"blue\", label=\"original\")\n",
    "plt.plot(X_test1, y_pred, lw=1.5, color=\"red\", label=\"predicted\")\n",
    "plt.legend()\n",
    "plt.show() "
   ]
  },
  {
   "cell_type": "code",
   "execution_count": 87,
   "metadata": {},
   "outputs": [
    {
     "name": "stdout",
     "output_type": "stream",
     "text": [
      "Mean Absoulte Error is : 211605.37034913336\n",
      "Mean Squared Error is : 117282445931.34578\n",
      "R-sqaure score is:  -0.03846424313859065\n"
     ]
    }
   ],
   "source": [
    "y_pred = svr.predict(X_test_reduced)\n",
    "print(\"Mean Absoulte Error is :\",mean_absolute_error(y_test, y_pred))\n",
    "print(\"Mean Squared Error is :\",mean_squared_error(y_test, y_pred))\n",
    "print(\"R-sqaure score is: \",r2_score(y_test, y_pred))"
   ]
  },
  {
   "cell_type": "markdown",
   "metadata": {},
   "source": [
    "We observe that SVM models are not a good fit for the data."
   ]
  },
  {
   "cell_type": "markdown",
   "metadata": {},
   "source": [
    "# Comparision of Models Before and After PCA"
   ]
  },
  {
   "cell_type": "markdown",
   "metadata": {},
   "source": [
    "## Before PCA"
   ]
  },
  {
   "cell_type": "code",
   "execution_count": 88,
   "metadata": {},
   "outputs": [
    {
     "data": {
      "text/html": [
       "<div>\n",
       "<style scoped>\n",
       "    .dataframe tbody tr th:only-of-type {\n",
       "        vertical-align: middle;\n",
       "    }\n",
       "\n",
       "    .dataframe tbody tr th {\n",
       "        vertical-align: top;\n",
       "    }\n",
       "\n",
       "    .dataframe thead th {\n",
       "        text-align: right;\n",
       "    }\n",
       "</style>\n",
       "<table border=\"1\" class=\"dataframe\">\n",
       "  <thead>\n",
       "    <tr style=\"text-align: right;\">\n",
       "      <th></th>\n",
       "      <th>Models before PCA</th>\n",
       "      <th>Train Score</th>\n",
       "      <th>Test_Score</th>\n",
       "    </tr>\n",
       "  </thead>\n",
       "  <tbody>\n",
       "    <tr>\n",
       "      <th>0</th>\n",
       "      <td>K Neighbors Regressor</td>\n",
       "      <td>0.7099</td>\n",
       "      <td>0.6242</td>\n",
       "    </tr>\n",
       "    <tr>\n",
       "      <th>1</th>\n",
       "      <td>Linear Regrerssion</td>\n",
       "      <td>0.6038</td>\n",
       "      <td>0.6210</td>\n",
       "    </tr>\n",
       "    <tr>\n",
       "      <th>2</th>\n",
       "      <td>SGD Regressor</td>\n",
       "      <td>0.5648</td>\n",
       "      <td>0.5850</td>\n",
       "    </tr>\n",
       "    <tr>\n",
       "      <th>3</th>\n",
       "      <td>Polynomial Regression-degree 1</td>\n",
       "      <td>0.6037</td>\n",
       "      <td>6209.0000</td>\n",
       "    </tr>\n",
       "    <tr>\n",
       "      <th>4</th>\n",
       "      <td>Polynomial Regression-degree 2</td>\n",
       "      <td>0.6965</td>\n",
       "      <td>0.6613</td>\n",
       "    </tr>\n",
       "    <tr>\n",
       "      <th>5</th>\n",
       "      <td>Ridge</td>\n",
       "      <td>0.6010</td>\n",
       "      <td>0.6217</td>\n",
       "    </tr>\n",
       "    <tr>\n",
       "      <th>6</th>\n",
       "      <td>Lasso</td>\n",
       "      <td>0.6034</td>\n",
       "      <td>0.6218</td>\n",
       "    </tr>\n",
       "    <tr>\n",
       "      <th>7</th>\n",
       "      <td>Linear SVM</td>\n",
       "      <td>-1.9329</td>\n",
       "      <td>-2.2239</td>\n",
       "    </tr>\n",
       "    <tr>\n",
       "      <th>8</th>\n",
       "      <td>SVM-rbf</td>\n",
       "      <td>-0.0405</td>\n",
       "      <td>0.0386</td>\n",
       "    </tr>\n",
       "  </tbody>\n",
       "</table>\n",
       "</div>"
      ],
      "text/plain": [
       "                Models before PCA  Train Score  Test_Score\n",
       "0           K Neighbors Regressor       0.7099      0.6242\n",
       "1              Linear Regrerssion       0.6038      0.6210\n",
       "2                   SGD Regressor       0.5648      0.5850\n",
       "3  Polynomial Regression-degree 1       0.6037   6209.0000\n",
       "4  Polynomial Regression-degree 2       0.6965      0.6613\n",
       "5                           Ridge       0.6010      0.6217\n",
       "6                           Lasso       0.6034      0.6218\n",
       "7                      Linear SVM      -1.9329     -2.2239\n",
       "8                         SVM-rbf      -0.0405      0.0386"
      ]
     },
     "execution_count": 88,
     "metadata": {},
     "output_type": "execute_result"
    }
   ],
   "source": [
    "import pandas as pd\n",
    "Regression = {'Models before PCA':['K Neighbors Regressor','Linear Regrerssion','SGD Regressor','Polynomial Regression-degree 1','Polynomial Regression-degree 2','Ridge','Lasso','Linear SVM','SVM-rbf'],'Train Score':[0.7099,0.6038,0.5648,0.6037,0.6965,0.6010,0.6034,-1.9329,-0.0405],'Test_Score':[0.6242,0.6210,0.5850,6209,0.6613,0.6217,0.6218,-2.2239,0.0386]}\n",
    "Regression_score = pd.DataFrame(Regression)\n",
    "Regression_score"
   ]
  },
  {
   "cell_type": "markdown",
   "metadata": {},
   "source": [
    "## After PCA"
   ]
  },
  {
   "cell_type": "code",
   "execution_count": 89,
   "metadata": {},
   "outputs": [
    {
     "data": {
      "text/html": [
       "<div>\n",
       "<style scoped>\n",
       "    .dataframe tbody tr th:only-of-type {\n",
       "        vertical-align: middle;\n",
       "    }\n",
       "\n",
       "    .dataframe tbody tr th {\n",
       "        vertical-align: top;\n",
       "    }\n",
       "\n",
       "    .dataframe thead th {\n",
       "        text-align: right;\n",
       "    }\n",
       "</style>\n",
       "<table border=\"1\" class=\"dataframe\">\n",
       "  <thead>\n",
       "    <tr style=\"text-align: right;\">\n",
       "      <th></th>\n",
       "      <th>Models after PCA</th>\n",
       "      <th>Train Score</th>\n",
       "      <th>Test_Score</th>\n",
       "    </tr>\n",
       "  </thead>\n",
       "  <tbody>\n",
       "    <tr>\n",
       "      <th>0</th>\n",
       "      <td>K Neighbors Regressor</td>\n",
       "      <td>0.7156</td>\n",
       "      <td>0.6201</td>\n",
       "    </tr>\n",
       "    <tr>\n",
       "      <th>1</th>\n",
       "      <td>Linear Regrerssion</td>\n",
       "      <td>0.6007</td>\n",
       "      <td>0.6147</td>\n",
       "    </tr>\n",
       "    <tr>\n",
       "      <th>2</th>\n",
       "      <td>SGD Regressor</td>\n",
       "      <td>0.6007</td>\n",
       "      <td>0.6148</td>\n",
       "    </tr>\n",
       "    <tr>\n",
       "      <th>3</th>\n",
       "      <td>Polynomial Regression-degree 1</td>\n",
       "      <td>0.6007</td>\n",
       "      <td>0.6147</td>\n",
       "    </tr>\n",
       "    <tr>\n",
       "      <th>4</th>\n",
       "      <td>Polynomial Regression-degree 2</td>\n",
       "      <td>0.6805</td>\n",
       "      <td>0.6539</td>\n",
       "    </tr>\n",
       "    <tr>\n",
       "      <th>5</th>\n",
       "      <td>Ridge</td>\n",
       "      <td>0.5930</td>\n",
       "      <td>0.6141</td>\n",
       "    </tr>\n",
       "    <tr>\n",
       "      <th>6</th>\n",
       "      <td>Lasso</td>\n",
       "      <td>0.5934</td>\n",
       "      <td>0.6134</td>\n",
       "    </tr>\n",
       "    <tr>\n",
       "      <th>7</th>\n",
       "      <td>Linear SVM</td>\n",
       "      <td>-2.0726</td>\n",
       "      <td>-2.2860</td>\n",
       "    </tr>\n",
       "    <tr>\n",
       "      <th>8</th>\n",
       "      <td>SVM-rbf</td>\n",
       "      <td>-0.0404</td>\n",
       "      <td>-0.0384</td>\n",
       "    </tr>\n",
       "  </tbody>\n",
       "</table>\n",
       "</div>"
      ],
      "text/plain": [
       "                 Models after PCA  Train Score  Test_Score\n",
       "0           K Neighbors Regressor       0.7156      0.6201\n",
       "1              Linear Regrerssion       0.6007      0.6147\n",
       "2                   SGD Regressor       0.6007      0.6148\n",
       "3  Polynomial Regression-degree 1       0.6007      0.6147\n",
       "4  Polynomial Regression-degree 2       0.6805      0.6539\n",
       "5                           Ridge       0.5930      0.6141\n",
       "6                           Lasso       0.5934      0.6134\n",
       "7                      Linear SVM      -2.0726     -2.2860\n",
       "8                         SVM-rbf      -0.0404     -0.0384"
      ]
     },
     "execution_count": 89,
     "metadata": {},
     "output_type": "execute_result"
    }
   ],
   "source": [
    "import pandas as pd\n",
    "Regression = {'Models after PCA':['K Neighbors Regressor','Linear Regrerssion','SGD Regressor','Polynomial Regression-degree 1','Polynomial Regression-degree 2','Ridge','Lasso','Linear SVM','SVM-rbf'],'Train Score':[0.7156,0.6007,0.6007,0.6007,0.6805,0.5930,0.5934,-2.0726,-0.0404],'Test_Score':[0.6201,0.6147,0.6148,0.6147,0.6539,0.6141,0.6134,-2.2860,-0.0384]}\n",
    "Regression_score = pd.DataFrame(Regression)\n",
    "Regression_score"
   ]
  },
  {
   "cell_type": "markdown",
   "metadata": {},
   "source": [
    "# Deep Learning"
   ]
  },
  {
   "cell_type": "code",
   "execution_count": 90,
   "metadata": {},
   "outputs": [
    {
     "name": "stderr",
     "output_type": "stream",
     "text": [
      "Using TensorFlow backend.\n"
     ]
    }
   ],
   "source": [
    "from keras import Sequential\n",
    "from keras.layers import Dense\n",
    "def build_regressor():\n",
    "    regressor = Sequential()\n",
    "    regressor.add(Dense(units=13, input_dim=13))\n",
    "    regressor.add(Dense(units=1))\n",
    "    regressor.compile(optimizer='adam', loss='mean_squared_error',  metrics=['mae','accuracy'])\n",
    "    return regressor"
   ]
  },
  {
   "cell_type": "code",
   "execution_count": 91,
   "metadata": {},
   "outputs": [],
   "source": [
    "from keras.wrappers.scikit_learn import KerasRegressor\n",
    "regressor = KerasRegressor(build_fn=build_regressor, batch_size=32,epochs=100)"
   ]
  },
  {
   "cell_type": "code",
   "execution_count": 92,
   "metadata": {},
   "outputs": [
    {
     "name": "stdout",
     "output_type": "stream",
     "text": [
      "WARNING:tensorflow:From C:\\Users\\akhil\\AppData\\Local\\Continuum\\anaconda3\\lib\\site-packages\\tensorflow\\python\\framework\\op_def_library.py:263: colocate_with (from tensorflow.python.framework.ops) is deprecated and will be removed in a future version.\n",
      "Instructions for updating:\n",
      "Colocations handled automatically by placer.\n",
      "WARNING:tensorflow:From C:\\Users\\akhil\\AppData\\Local\\Continuum\\anaconda3\\lib\\site-packages\\tensorflow\\python\\ops\\math_ops.py:3066: to_int32 (from tensorflow.python.ops.math_ops) is deprecated and will be removed in a future version.\n",
      "Instructions for updating:\n",
      "Use tf.cast instead.\n",
      "Epoch 1/100\n",
      "16197/16197 [==============================] - 1s 37us/step - loss: 428674671575.7278 - mean_absolute_error: 542952.8347 - acc: 0.0000e+00\n",
      "Epoch 2/100\n",
      "16197/16197 [==============================] - 0s 23us/step - loss: 428607430503.7625 - mean_absolute_error: 542895.5140 - acc: 0.0000e+00\n",
      "Epoch 3/100\n",
      "16197/16197 [==============================] - 0s 23us/step - loss: 428477467591.4167 - mean_absolute_error: 542784.2883 - acc: 0.0000e+00\n",
      "Epoch 4/100\n",
      "16197/16197 [==============================] - 0s 23us/step - loss: 428295472154.9956 - mean_absolute_error: 542628.8646 - acc: 0.0000e+00\n",
      "Epoch 5/100\n",
      "16197/16197 [==============================] - 0s 24us/step - loss: 428068146134.5898 - mean_absolute_error: 542434.8329 - acc: 0.0000e+00\n",
      "Epoch 6/100\n",
      "16197/16197 [==============================] - 0s 25us/step - loss: 427800508522.8445 - mean_absolute_error: 542206.1070 - acc: 0.0000e+00\n",
      "Epoch 7/100\n",
      "16197/16197 [==============================] - 0s 25us/step - loss: 427495863589.2849 - mean_absolute_error: 541946.4723 - acc: 0.0000e+00\n",
      "Epoch 8/100\n",
      "16197/16197 [==============================] - 0s 24us/step - loss: 427156544554.2952 - mean_absolute_error: 541656.3860 - acc: 0.0000e+00\n",
      "Epoch 9/100\n",
      "16197/16197 [==============================] - 0s 22us/step - loss: 426784817536.3872 - mean_absolute_error: 541337.7615 - acc: 0.0000e+00\n",
      "Epoch 10/100\n",
      "16197/16197 [==============================] - 0s 23us/step - loss: 426381819763.3952 - mean_absolute_error: 540992.3991 - acc: 0.0000e+00\n",
      "Epoch 11/100\n",
      "16197/16197 [==============================] - 0s 24us/step - loss: 425947615304.5784 - mean_absolute_error: 540621.0501 - acc: 0.0000e+00\n",
      "Epoch 12/100\n",
      "16197/16197 [==============================] - 0s 25us/step - loss: 425483825994.8701 - mean_absolute_error: 540221.4656 - acc: 0.0000e+00\n",
      "Epoch 13/100\n",
      "16197/16197 [==============================] - 0s 25us/step - loss: 424989557172.9876 - mean_absolute_error: 539797.9163 - acc: 0.0000e+00\n",
      "Epoch 14/100\n",
      "16197/16197 [==============================] - 0s 25us/step - loss: 424465581464.3482 - mean_absolute_error: 539348.1867 - acc: 0.0000e+00\n",
      "Epoch 15/100\n",
      "16197/16197 [==============================] - 0s 25us/step - loss: 423913245054.7435 - mean_absolute_error: 538873.0780 - acc: 0.0000e+00\n",
      "Epoch 16/100\n",
      "16197/16197 [==============================] - 0s 28us/step - loss: 423331976925.8129 - mean_absolute_error: 538373.0435 - acc: 0.0000e+00\n",
      "Epoch 17/100\n",
      "16197/16197 [==============================] - 0s 29us/step - loss: 422721639880.6495 - mean_absolute_error: 537847.9547 - acc: 0.0000e+00\n",
      "Epoch 18/100\n",
      "16197/16197 [==============================] - 0s 27us/step - loss: 422083013717.5388 - mean_absolute_error: 537297.2843 - acc: 0.0000e+00\n",
      "Epoch 19/100\n",
      "16197/16197 [==============================] - 0s 25us/step - loss: 421415279218.2730 - mean_absolute_error: 536722.5153 - acc: 0.0000e+00\n",
      "Epoch 20/100\n",
      "16197/16197 [==============================] - 0s 23us/step - loss: 420719512879.5269 - mean_absolute_error: 536122.2384 - acc: 0.0000e+00\n",
      "Epoch 21/100\n",
      "16197/16197 [==============================] - 0s 22us/step - loss: 419997726806.6136 - mean_absolute_error: 535496.4360 - acc: 0.0000e+00\n",
      "Epoch 22/100\n",
      "16197/16197 [==============================] - 0s 24us/step - loss: 419249211444.9797 - mean_absolute_error: 534848.3428 - acc: 0.0000e+00\n",
      "Epoch 23/100\n",
      "16197/16197 [==============================] - 0s 25us/step - loss: 418473261015.1589 - mean_absolute_error: 534175.7603 - acc: 0.0000e+00\n",
      "Epoch 24/100\n",
      "16197/16197 [==============================] - 0s 25us/step - loss: 417669365937.0204 - mean_absolute_error: 533478.1226 - acc: 0.0000e+00\n",
      "Epoch 25/100\n",
      "16197/16197 [==============================] - 0s 25us/step - loss: 416837580558.8729 - mean_absolute_error: 532755.8235 - acc: 0.0000e+00\n",
      "Epoch 26/100\n",
      "16197/16197 [==============================] - 0s 25us/step - loss: 415978196887.5580 - mean_absolute_error: 532009.0206 - acc: 0.0000e+00\n",
      "Epoch 27/100\n",
      "16197/16197 [==============================] - 0s 25us/step - loss: 415093871946.2064 - mean_absolute_error: 531237.6428 - acc: 0.0000e+00\n",
      "Epoch 28/100\n",
      "16197/16197 [==============================] - 0s 25us/step - loss: 414183057753.8221 - mean_absolute_error: 530441.5787 - acc: 0.0000e+00\n",
      "Epoch 29/100\n",
      "16197/16197 [==============================] - 0s 25us/step - loss: 413244758637.2153 - mean_absolute_error: 529623.3005 - acc: 0.0000e+00\n",
      "Epoch 30/100\n",
      "16197/16197 [==============================] - 0s 24us/step - loss: 412279660584.9676 - mean_absolute_error: 528779.0375 - acc: 0.0000e+00\n",
      "Epoch 31/100\n",
      "16197/16197 [==============================] - 0s 25us/step - loss: 411289733650.4291 - mean_absolute_error: 527911.1902 - acc: 0.0000e+00\n",
      "Epoch 32/100\n",
      "16197/16197 [==============================] - 0s 25us/step - loss: 410274583408.8031 - mean_absolute_error: 527019.5163 - acc: 0.0000e+00\n",
      "Epoch 33/100\n",
      "16197/16197 [==============================] - 0s 25us/step - loss: 409234202733.7527 - mean_absolute_error: 526107.4484 - acc: 0.0000e+00\n",
      "Epoch 34/100\n",
      "16197/16197 [==============================] - 0s 25us/step - loss: 408168375436.7945 - mean_absolute_error: 525164.7933 - acc: 0.0000e+00\n",
      "Epoch 35/100\n",
      "16197/16197 [==============================] - 0s 25us/step - loss: 407078454884.6804 - mean_absolute_error: 524204.9308 - acc: 0.0000e+00\n",
      "Epoch 36/100\n",
      "16197/16197 [==============================] - 0s 24us/step - loss: 405962821452.7036 - mean_absolute_error: 523219.2573 - acc: 0.0000e+00\n",
      "Epoch 37/100\n",
      "16197/16197 [==============================] - 0s 25us/step - loss: 404820967451.3118 - mean_absolute_error: 522206.8672 - acc: 0.0000e+00\n",
      "Epoch 38/100\n",
      "16197/16197 [==============================] - 0s 24us/step - loss: 403655072595.8476 - mean_absolute_error: 521173.7151 - acc: 0.0000e+00\n",
      "Epoch 39/100\n",
      "16197/16197 [==============================] - 0s 24us/step - loss: 402463110930.9191 - mean_absolute_error: 520116.0894 - acc: 0.0000e+00\n",
      "Epoch 40/100\n",
      "16197/16197 [==============================] - 0s 25us/step - loss: 401247850050.1614 - mean_absolute_error: 519031.0782 - acc: 0.0000e+00\n",
      "Epoch 41/100\n",
      "16197/16197 [==============================] - 0s 25us/step - loss: 400009158937.7154 - mean_absolute_error: 517927.4826 - acc: 0.0000e+00\n",
      "Epoch 42/100\n",
      "16197/16197 [==============================] - 0s 25us/step - loss: 398746510096.4534 - mean_absolute_error: 516798.9607 - acc: 0.0000e+00\n",
      "Epoch 43/100\n",
      "16197/16197 [==============================] - 0s 25us/step - loss: 397460104643.3389 - mean_absolute_error: 515643.9264 - acc: 0.0000e+00\n",
      "Epoch 44/100\n",
      "16197/16197 [==============================] - 0s 25us/step - loss: 396149456985.0160 - mean_absolute_error: 514467.8569 - acc: 0.0000e+00\n",
      "Epoch 45/100\n",
      "16197/16197 [==============================] - 0s 25us/step - loss: 394814261629.7319 - mean_absolute_error: 513268.9644 - acc: 0.0000e+00\n",
      "Epoch 46/100\n",
      "16197/16197 [==============================] - 0s 25us/step - loss: 393460411974.2076 - mean_absolute_error: 512041.8513 - acc: 0.0000e+00\n",
      "Epoch 47/100\n",
      "16197/16197 [==============================] - 0s 25us/step - loss: 392079546825.3450 - mean_absolute_error: 510799.6024 - acc: 0.0000e+00\n",
      "Epoch 48/100\n",
      "16197/16197 [==============================] - 0s 25us/step - loss: 390678133077.5230 - mean_absolute_error: 509530.0818 - acc: 0.0000e+00\n",
      "Epoch 49/100\n",
      "16197/16197 [==============================] - 0s 25us/step - loss: 389254519105.7979 - mean_absolute_error: 508232.0372 - acc: 0.0000e+00\n",
      "Epoch 50/100\n",
      "16197/16197 [==============================] - 0s 25us/step - loss: 387811547546.8138 - mean_absolute_error: 506920.2610 - acc: 0.0000e+00\n"
     ]
    },
    {
     "name": "stdout",
     "output_type": "stream",
     "text": [
      "Epoch 51/100\n",
      "16197/16197 [==============================] - 0s 24us/step - loss: 386344866030.9776 - mean_absolute_error: 505578.6489 - acc: 0.0000e+00\n",
      "Epoch 52/100\n",
      "16197/16197 [==============================] - 0s 21us/step - loss: 384855247190.2816 - mean_absolute_error: 504220.2056 - acc: 0.0000e+00\n",
      "Epoch 53/100\n",
      "16197/16197 [==============================] - 0s 21us/step - loss: 383343064168.1260 - mean_absolute_error: 502828.1938 - acc: 0.0000e+00\n",
      "Epoch 54/100\n",
      "16197/16197 [==============================] - 0s 23us/step - loss: 381808991748.7100 - mean_absolute_error: 501423.3324 - acc: 0.0000e+00\n",
      "Epoch 55/100\n",
      "16197/16197 [==============================] - 0s 23us/step - loss: 380254449090.7067 - mean_absolute_error: 499980.5924 - acc: 0.0000e+00\n",
      "Epoch 56/100\n",
      "16197/16197 [==============================] - 0s 22us/step - loss: 378684577053.6983 - mean_absolute_error: 498526.5118 - acc: 0.0000e+00\n",
      "Epoch 57/100\n",
      "16197/16197 [==============================] - 0s 21us/step - loss: 377091229501.1511 - mean_absolute_error: 497049.8236 - acc: 0.0000e+00\n",
      "Epoch 58/100\n",
      "16197/16197 [==============================] - 0s 23us/step - loss: 375478391103.3954 - mean_absolute_error: 495545.6319 - acc: 0.0000e+00\n",
      "Epoch 59/100\n",
      "16197/16197 [==============================] - 0s 24us/step - loss: 373842862137.1523 - mean_absolute_error: 494022.5765 - acc: 0.0000e+00\n",
      "Epoch 60/100\n",
      "16197/16197 [==============================] - 0s 23us/step - loss: 372184565645.0631 - mean_absolute_error: 492474.9212 - acc: 0.0000e+00\n",
      "Epoch 61/100\n",
      "16197/16197 [==============================] - 0s 24us/step - loss: 370510772353.0984 - mean_absolute_error: 490899.4742 - acc: 0.0000e+00\n",
      "Epoch 62/100\n",
      "16197/16197 [==============================] - 0s 24us/step - loss: 368818974490.6321 - mean_absolute_error: 489301.8436 - acc: 0.0000e+00\n",
      "Epoch 63/100\n",
      "16197/16197 [==============================] - 0s 23us/step - loss: 367104539677.6509 - mean_absolute_error: 487685.3195 - acc: 0.0000e+00\n",
      "Epoch 64/100\n",
      "16197/16197 [==============================] - 0s 22us/step - loss: 365373244988.2186 - mean_absolute_error: 486040.4156 - acc: 0.0000e+00\n",
      "Epoch 65/100\n",
      "16197/16197 [==============================] - 0s 20us/step - loss: 363619259356.0269 - mean_absolute_error: 484385.6610 - acc: 0.0000e+00\n",
      "Epoch 66/100\n",
      "16197/16197 [==============================] - 0s 23us/step - loss: 361847669530.0630 - mean_absolute_error: 482688.2670 - acc: 0.0000e+00\n",
      "Epoch 67/100\n",
      "16197/16197 [==============================] - 0s 23us/step - loss: 360059481690.4385 - mean_absolute_error: 480977.0826 - acc: 0.0000e+00\n",
      "Epoch 68/100\n",
      "16197/16197 [==============================] - 0s 23us/step - loss: 358257847716.3604 - mean_absolute_error: 479237.3730 - acc: 0.0000e+00\n",
      "Epoch 69/100\n",
      "16197/16197 [==============================] - 0s 21us/step - loss: 356441224409.4190 - mean_absolute_error: 477486.3537 - acc: 0.0000e+00\n",
      "Epoch 70/100\n",
      "16197/16197 [==============================] - 0s 22us/step - loss: 354604583678.1192 - mean_absolute_error: 475713.7974 - acc: 0.0000e+00\n",
      "Epoch 71/100\n",
      "16197/16197 [==============================] - 0s 23us/step - loss: 352746722093.0295 - mean_absolute_error: 473910.4353 - acc: 0.0000e+00\n",
      "Epoch 72/100\n",
      "16197/16197 [==============================] - 0s 25us/step - loss: 350872910034.0221 - mean_absolute_error: 472087.4173 - acc: 0.0000e+00\n",
      "Epoch 73/100\n",
      "16197/16197 [==============================] - 0s 26us/step - loss: 348987358975.0674 - mean_absolute_error: 470241.2627 - acc: 0.0000e+00\n",
      "Epoch 74/100\n",
      "16197/16197 [==============================] - 0s 27us/step - loss: 347085385228.5495 - mean_absolute_error: 468379.8758 - acc: 0.0000e+00\n",
      "Epoch 75/100\n",
      "16197/16197 [==============================] - 0s 25us/step - loss: 345165890414.0214 - mean_absolute_error: 466478.2611 - acc: 0.0000e+00\n",
      "Epoch 76/100\n",
      "16197/16197 [==============================] - 0s 24us/step - loss: 343234507194.8040 - mean_absolute_error: 464579.4402 - acc: 0.0000e+00\n",
      "Epoch 77/100\n",
      "16197/16197 [==============================] - 0s 24us/step - loss: 341289186895.6908 - mean_absolute_error: 462628.8670 - acc: 0.0000e+00\n",
      "Epoch 78/100\n",
      "16197/16197 [==============================] - 0s 25us/step - loss: 339327269507.9750 - mean_absolute_error: 460682.7326 - acc: 0.0000e+00\n",
      "Epoch 79/100\n",
      "16197/16197 [==============================] - 0s 24us/step - loss: 337349202512.5127 - mean_absolute_error: 458695.1060 - acc: 0.0000e+00\n",
      "Epoch 80/100\n",
      "16197/16197 [==============================] - 0s 24us/step - loss: 335354820849.3800 - mean_absolute_error: 456694.2339 - acc: 0.0000e+00\n",
      "Epoch 81/100\n",
      "16197/16197 [==============================] - 0s 21us/step - loss: 333345451095.5619 - mean_absolute_error: 454659.0145 - acc: 0.0000e+00\n",
      "Epoch 82/100\n",
      "16197/16197 [==============================] - 0s 22us/step - loss: 331330868661.4301 - mean_absolute_error: 452609.8950 - acc: 0.0000e+00\n",
      "Epoch 83/100\n",
      "16197/16197 [==============================] - 0s 23us/step - loss: 329296919144.6633 - mean_absolute_error: 450545.2124 - acc: 0.0000e+00\n",
      "Epoch 84/100\n",
      "16197/16197 [==============================] - 0s 21us/step - loss: 327248939113.5801 - mean_absolute_error: 448444.1922 - acc: 0.0000e+00\n",
      "Epoch 85/100\n",
      "16197/16197 [==============================] - 0s 22us/step - loss: 325188659178.6311 - mean_absolute_error: 446329.9751 - acc: 0.0000e+00\n",
      "Epoch 86/100\n",
      "16197/16197 [==============================] - 0s 23us/step - loss: 323111694178.4518 - mean_absolute_error: 444196.0172 - acc: 0.0000e+00\n",
      "Epoch 87/100\n",
      "16197/16197 [==============================] - 0s 23us/step - loss: 321021526460.0684 - mean_absolute_error: 442023.4174 - acc: 0.0000e+00\n",
      "Epoch 88/100\n",
      "16197/16197 [==============================] - 0s 22us/step - loss: 318926317778.2750 - mean_absolute_error: 439835.3473 - acc: 0.0000e+00\n",
      "Epoch 89/100\n",
      "16197/16197 [==============================] - 0s 22us/step - loss: 316819292553.4911 - mean_absolute_error: 437628.5982 - acc: 0.0000e+00\n",
      "Epoch 90/100\n",
      "16197/16197 [==============================] - 0s 23us/step - loss: 314701681914.2943 - mean_absolute_error: 435397.5575 - acc: 0.0000e+00\n",
      "Epoch 91/100\n",
      "16197/16197 [==============================] - 0s 24us/step - loss: 312572180558.5212 - mean_absolute_error: 433155.1753 - acc: 0.0000e+00\n",
      "Epoch 92/100\n",
      "16197/16197 [==============================] - 0s 24us/step - loss: 310434540146.0201 - mean_absolute_error: 430873.3184 - acc: 0.0000e+00\n",
      "Epoch 93/100\n",
      "16197/16197 [==============================] - 0s 23us/step - loss: 308284715314.7512 - mean_absolute_error: 428581.7150 - acc: 0.0000e+00\n",
      "Epoch 94/100\n",
      "16197/16197 [==============================] - 0s 24us/step - loss: 306126177209.8872 - mean_absolute_error: 426261.2251 - acc: 0.0000e+00\n",
      "Epoch 95/100\n",
      "16197/16197 [==============================] - 0s 22us/step - loss: 303956314061.8021 - mean_absolute_error: 423935.5222 - acc: 0.0000e+00\n",
      "Epoch 96/100\n",
      "16197/16197 [==============================] - 0s 21us/step - loss: 301776803341.4346 - mean_absolute_error: 421559.4873 - acc: 0.0000e+00\n",
      "Epoch 97/100\n",
      "16197/16197 [==============================] - 0s 24us/step - loss: 299593721495.7634 - mean_absolute_error: 419178.3918 - acc: 0.0000e+00\n",
      "Epoch 98/100\n",
      "16197/16197 [==============================] - 0s 25us/step - loss: 297404392076.9525 - mean_absolute_error: 416771.8159 - acc: 0.0000e+00\n",
      "Epoch 99/100\n",
      "16197/16197 [==============================] - 0s 25us/step - loss: 295206574560.6105 - mean_absolute_error: 414349.0229 - acc: 0.0000e+00\n",
      "Epoch 100/100\n",
      "16197/16197 [==============================] - 0s 24us/step - loss: 292997236970.0463 - mean_absolute_error: 411909.1066 - acc: 0.0000e+00\n"
     ]
    }
   ],
   "source": [
    "results=regressor.fit(X_train,y_train)"
   ]
  },
  {
   "cell_type": "code",
   "execution_count": 93,
   "metadata": {},
   "outputs": [],
   "source": [
    "y_pred= regressor.predict(X_test)"
   ]
  },
  {
   "cell_type": "code",
   "execution_count": 94,
   "metadata": {},
   "outputs": [
    {
     "data": {
      "image/png": "[encoded data removed]",
      "text/plain": [
       "<Figure size 432x288 with 1 Axes>"
      ]
     },
     "metadata": {
      "needs_background": "light"
     },
     "output_type": "display_data"
    }
   ],
   "source": [
    "import matplotlib.pyplot as plt\n",
    "fig, ax = plt.subplots()\n",
    "ax.scatter(y_test, y_pred)\n",
    "ax.plot([y_test.min(), y_test.max()], [y_test.min(), y_test.max()], 'k--', lw=4)\n",
    "ax.set_xlabel('Measured')\n",
    "ax.set_ylabel('Predicted')\n",
    "plt.show()"
   ]
  },
  {
   "cell_type": "code",
   "execution_count": 95,
   "metadata": {},
   "outputs": [
    {
     "ename": "NameError",
     "evalue": "name 'y_test_predict' is not defined",
     "output_type": "error",
     "traceback": [
      "\u001b[1;31m---------------------------------------------------------------------------\u001b[0m",
      "\u001b[1;31mNameError\u001b[0m                                 Traceback (most recent call last)",
      "\u001b[1;32m<ipython-input-95-a414e6f02643>\u001b[0m in \u001b[0;36m<module>\u001b[1;34m\u001b[0m\n\u001b[0;32m      1\u001b[0m \u001b[1;32mfrom\u001b[0m \u001b[0msklearn\u001b[0m\u001b[1;33m.\u001b[0m\u001b[0mmetrics\u001b[0m \u001b[1;32mimport\u001b[0m \u001b[0mr2_score\u001b[0m\u001b[1;33m\u001b[0m\u001b[1;33m\u001b[0m\u001b[0m\n\u001b[1;32m----> 2\u001b[1;33m \u001b[0mr2_score\u001b[0m\u001b[1;33m(\u001b[0m\u001b[0my_test\u001b[0m\u001b[1;33m,\u001b[0m \u001b[0my_test_predict\u001b[0m\u001b[1;33m)\u001b[0m\u001b[1;33m\u001b[0m\u001b[1;33m\u001b[0m\u001b[0m\n\u001b[0m",
      "\u001b[1;31mNameError\u001b[0m: name 'y_test_predict' is not defined"
     ]
    }
   ],
   "source": [
    "from sklearn.metrics import r2_score\n",
    "r2_score(y_test, y_test_predict)"
   ]
  },
  {
   "cell_type": "markdown",
   "metadata": {},
   "source": [
    "# Conclusion \n",
    "Reducing the number of features using PCA has led to low test and train scores but has improved the generalization by bringing the test and train scores closer. The KNN Regressor, Linear Regressor, SGD Regressor and polynomial regressions worked well to explain the data but the Support vector machines failed to. \n",
    "Due to high R2 score and accuracy and low MSE, \n",
    "### The best performing model is K Neighbors Regressor with the best parameter k= 7\n",
    "- \tTrain score : 0.7099\n",
    "- \tTest score : 0.6242\n",
    "- \tMean Absoulte Error is : 135118.6940\n",
    "- \tMean Squared Error is : 42442055640.4995\n",
    "- \tR-sqaure score is : 0.6242\n"
   ]
  },
  {
   "cell_type": "markdown",
   "metadata": {},
   "source": [
    "# PROJECT BY - Group 7\n",
    "## Akhilandeshwari Bekkary (axb176530)\n",
    "## Anantha Shashidhar Karunakaram(axk176830)"
   ]
  }
 ],
 "metadata": {
  "kernelspec": {
   "display_name": "Python 3",
   "language": "python",
   "name": "python3"
  },
  "language_info": {
   "codemirror_mode": {
    "name": "ipython",
    "version": 3
   },
   "file_extension": ".py",
   "mimetype": "text/x-python",
   "name": "python",
   "nbconvert_exporter": "python",
   "pygments_lexer": "ipython3",
   "version": "3.6.8"
  }
 },
 "nbformat": 4,
 "nbformat_minor": 2
}
