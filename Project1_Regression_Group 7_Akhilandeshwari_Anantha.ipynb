{
 "cells": [
  {
   "cell_type": "markdown",
   "metadata": {},
   "source": [
    "# REGRESSION"
   ]
  },
  {
   "cell_type": "markdown",
   "metadata": {},
   "source": [
    "Dataset Source: https://www.kaggle.com/swathiachath/kc-housesales-data"
   ]
  },
  {
   "cell_type": "markdown",
   "metadata": {},
   "source": [
    "# Importing Data Set"
   ]
  },
  {
   "cell_type": "code",
   "execution_count": 1,
   "metadata": {},
   "outputs": [],
   "source": [
    "import pandas as pd\n",
    "import numpy as np\n",
    "from sklearn.metrics import mean_absolute_error\n",
    "from sklearn.metrics import mean_squared_error\n",
    "from sklearn.metrics import r2_score\n",
    "data = pd.read_csv('export_dataframe.csv')"
   ]
  },
  {
   "cell_type": "markdown",
   "metadata": {},
   "source": [
    "## Viewing Data"
   ]
  },
  {
   "cell_type": "code",
   "execution_count": 2,
   "metadata": {},
   "outputs": [
    {
     "data": {
      "text/plain": [
       "(21597, 21)"
      ]
     },
     "execution_count": 2,
     "metadata": {},
     "output_type": "execute_result"
    }
   ],
   "source": [
    "data.shape"
   ]
  },
  {
   "cell_type": "markdown",
   "metadata": {},
   "source": [
    "Missing values are marked as '?'"
   ]
  },
  {
   "cell_type": "code",
   "execution_count": 3,
   "metadata": {
    "scrolled": true
   },
   "outputs": [
    {
     "name": "stdout",
     "output_type": "stream",
     "text": [
      "<class 'pandas.core.frame.DataFrame'>\n",
      "RangeIndex: 21597 entries, 0 to 21596\n",
      "Data columns (total 21 columns):\n",
      "id               21597 non-null object\n",
      "date             21597 non-null object\n",
      "price            21597 non-null object\n",
      "bedrooms         21597 non-null object\n",
      "bathrooms        21597 non-null object\n",
      "sqft_living      21597 non-null object\n",
      "sqft_lot         21597 non-null object\n",
      "floors           21597 non-null object\n",
      "waterfront       21597 non-null object\n",
      "view             21597 non-null object\n",
      "condition        21597 non-null object\n",
      "grade            21597 non-null object\n",
      "sqft_above       21597 non-null object\n",
      "sqft_basement    21597 non-null object\n",
      "yr_built         21597 non-null object\n",
      "yr_renovated     21597 non-null object\n",
      "zipcode          21597 non-null object\n",
      "lat              21597 non-null object\n",
      "long             21597 non-null object\n",
      "sqft_living15    21597 non-null object\n",
      "sqft_lot15       21597 non-null object\n",
      "dtypes: object(21)\n",
      "memory usage: 3.5+ MB\n"
     ]
    }
   ],
   "source": [
    "data.info()"
   ]
  },
  {
   "cell_type": "markdown",
   "metadata": {},
   "source": [
    "## Dataset Summary:\n",
    "- Features: 21\n",
    "     - Categorical columns: 2\n",
    "     - Ordinal columns: 4\n",
    "- Rows: 21597\n",
    "- Percentage of missing values: 5.0%\n",
    "- Target Value: 'Price'"
   ]
  },
  {
   "cell_type": "markdown",
   "metadata": {},
   "source": [
    "# Replacing '?' (missing values) with nan"
   ]
  },
  {
   "cell_type": "code",
   "execution_count": 4,
   "metadata": {},
   "outputs": [
    {
     "data": {
      "text/html": [
       "<div>\n",
       "<style scoped>\n",
       "    .dataframe tbody tr th:only-of-type {\n",
       "        vertical-align: middle;\n",
       "    }\n",
       "\n",
       "    .dataframe tbody tr th {\n",
       "        vertical-align: top;\n",
       "    }\n",
       "\n",
       "    .dataframe thead th {\n",
       "        text-align: right;\n",
       "    }\n",
       "</style>\n",
       "<table border=\"1\" class=\"dataframe\">\n",
       "  <thead>\n",
       "    <tr style=\"text-align: right;\">\n",
       "      <th></th>\n",
       "      <th>id</th>\n",
       "      <th>date</th>\n",
       "      <th>price</th>\n",
       "      <th>bedrooms</th>\n",
       "      <th>bathrooms</th>\n",
       "      <th>sqft_living</th>\n",
       "      <th>sqft_lot</th>\n",
       "      <th>floors</th>\n",
       "      <th>waterfront</th>\n",
       "      <th>view</th>\n",
       "      <th>...</th>\n",
       "      <th>grade</th>\n",
       "      <th>sqft_above</th>\n",
       "      <th>sqft_basement</th>\n",
       "      <th>yr_built</th>\n",
       "      <th>yr_renovated</th>\n",
       "      <th>zipcode</th>\n",
       "      <th>lat</th>\n",
       "      <th>long</th>\n",
       "      <th>sqft_living15</th>\n",
       "      <th>sqft_lot15</th>\n",
       "    </tr>\n",
       "  </thead>\n",
       "  <tbody>\n",
       "    <tr>\n",
       "      <th>0</th>\n",
       "      <td>7129300520</td>\n",
       "      <td>10/13/2014</td>\n",
       "      <td>221900.0</td>\n",
       "      <td>3</td>\n",
       "      <td>1.0</td>\n",
       "      <td>1180</td>\n",
       "      <td>5650</td>\n",
       "      <td>1.0</td>\n",
       "      <td>0</td>\n",
       "      <td>0</td>\n",
       "      <td>...</td>\n",
       "      <td>7</td>\n",
       "      <td>1180</td>\n",
       "      <td>0</td>\n",
       "      <td>1955</td>\n",
       "      <td>0</td>\n",
       "      <td>98178</td>\n",
       "      <td>47.5112</td>\n",
       "      <td>-122.257</td>\n",
       "      <td>1340</td>\n",
       "      <td>5650</td>\n",
       "    </tr>\n",
       "    <tr>\n",
       "      <th>1</th>\n",
       "      <td>6414100192</td>\n",
       "      <td>12/9/2014</td>\n",
       "      <td>538000.0</td>\n",
       "      <td>3</td>\n",
       "      <td>2.25</td>\n",
       "      <td>2570</td>\n",
       "      <td>7242</td>\n",
       "      <td>2.0</td>\n",
       "      <td>0</td>\n",
       "      <td>0</td>\n",
       "      <td>...</td>\n",
       "      <td>7</td>\n",
       "      <td>2170</td>\n",
       "      <td>400</td>\n",
       "      <td>1951</td>\n",
       "      <td>1991</td>\n",
       "      <td>98125</td>\n",
       "      <td>47.721000000000004</td>\n",
       "      <td>?</td>\n",
       "      <td>1690</td>\n",
       "      <td>7639</td>\n",
       "    </tr>\n",
       "    <tr>\n",
       "      <th>2</th>\n",
       "      <td>5631500400</td>\n",
       "      <td>2/25/2015</td>\n",
       "      <td>180000.0</td>\n",
       "      <td>2</td>\n",
       "      <td>1.0</td>\n",
       "      <td>770</td>\n",
       "      <td>10000</td>\n",
       "      <td>1.0</td>\n",
       "      <td>0</td>\n",
       "      <td>0</td>\n",
       "      <td>...</td>\n",
       "      <td>6</td>\n",
       "      <td>770</td>\n",
       "      <td>0</td>\n",
       "      <td>?</td>\n",
       "      <td>0</td>\n",
       "      <td>?</td>\n",
       "      <td>47.7379</td>\n",
       "      <td>-122.23299999999999</td>\n",
       "      <td>2720</td>\n",
       "      <td>8062</td>\n",
       "    </tr>\n",
       "    <tr>\n",
       "      <th>3</th>\n",
       "      <td>2487200875</td>\n",
       "      <td>12/9/2014</td>\n",
       "      <td>604000.0</td>\n",
       "      <td>4</td>\n",
       "      <td>3.0</td>\n",
       "      <td>1960</td>\n",
       "      <td>5000</td>\n",
       "      <td>1.0</td>\n",
       "      <td>0</td>\n",
       "      <td>0</td>\n",
       "      <td>...</td>\n",
       "      <td>7</td>\n",
       "      <td>1050</td>\n",
       "      <td>?</td>\n",
       "      <td>1965</td>\n",
       "      <td>0</td>\n",
       "      <td>?</td>\n",
       "      <td>47.5208</td>\n",
       "      <td>-122.39299999999999</td>\n",
       "      <td>1360</td>\n",
       "      <td>5000</td>\n",
       "    </tr>\n",
       "    <tr>\n",
       "      <th>4</th>\n",
       "      <td>1954400510</td>\n",
       "      <td>2/18/2015</td>\n",
       "      <td>510000.0</td>\n",
       "      <td>3</td>\n",
       "      <td>2.0</td>\n",
       "      <td>1680</td>\n",
       "      <td>8080</td>\n",
       "      <td>1.0</td>\n",
       "      <td>0</td>\n",
       "      <td>0</td>\n",
       "      <td>...</td>\n",
       "      <td>8</td>\n",
       "      <td>1680</td>\n",
       "      <td>0</td>\n",
       "      <td>1987</td>\n",
       "      <td>0</td>\n",
       "      <td>98074</td>\n",
       "      <td>47.6168</td>\n",
       "      <td>-122.045</td>\n",
       "      <td>1800</td>\n",
       "      <td>7503</td>\n",
       "    </tr>\n",
       "  </tbody>\n",
       "</table>\n",
       "<p>5 rows × 21 columns</p>\n",
       "</div>"
      ],
      "text/plain": [
       "           id        date     price bedrooms bathrooms sqft_living sqft_lot  \\\n",
       "0  7129300520  10/13/2014  221900.0        3       1.0        1180     5650   \n",
       "1  6414100192   12/9/2014  538000.0        3      2.25        2570     7242   \n",
       "2  5631500400   2/25/2015  180000.0        2       1.0         770    10000   \n",
       "3  2487200875   12/9/2014  604000.0        4       3.0        1960     5000   \n",
       "4  1954400510   2/18/2015  510000.0        3       2.0        1680     8080   \n",
       "\n",
       "  floors waterfront view  ... grade sqft_above sqft_basement yr_built  \\\n",
       "0    1.0          0    0  ...     7       1180             0     1955   \n",
       "1    2.0          0    0  ...     7       2170           400     1951   \n",
       "2    1.0          0    0  ...     6        770             0        ?   \n",
       "3    1.0          0    0  ...     7       1050             ?     1965   \n",
       "4    1.0          0    0  ...     8       1680             0     1987   \n",
       "\n",
       "  yr_renovated zipcode                 lat                 long sqft_living15  \\\n",
       "0            0   98178             47.5112             -122.257          1340   \n",
       "1         1991   98125  47.721000000000004                    ?          1690   \n",
       "2            0       ?             47.7379  -122.23299999999999          2720   \n",
       "3            0       ?             47.5208  -122.39299999999999          1360   \n",
       "4            0   98074             47.6168             -122.045          1800   \n",
       "\n",
       "  sqft_lot15  \n",
       "0       5650  \n",
       "1       7639  \n",
       "2       8062  \n",
       "3       5000  \n",
       "4       7503  \n",
       "\n",
       "[5 rows x 21 columns]"
      ]
     },
     "execution_count": 4,
     "metadata": {},
     "output_type": "execute_result"
    }
   ],
   "source": [
    "data.head()"
   ]
  },
  {
   "cell_type": "code",
   "execution_count": 5,
   "metadata": {},
   "outputs": [],
   "source": [
    "data = data.replace('?', np.nan)"
   ]
  },
  {
   "cell_type": "code",
   "execution_count": 6,
   "metadata": {},
   "outputs": [
    {
     "data": {
      "text/plain": [
       "id               1072\n",
       "date             1065\n",
       "price            1069\n",
       "bedrooms         1066\n",
       "bathrooms        1067\n",
       "sqft_living      1070\n",
       "sqft_lot         1068\n",
       "floors           1078\n",
       "waterfront       1074\n",
       "view             1073\n",
       "condition        1073\n",
       "grade            1071\n",
       "sqft_above       1077\n",
       "sqft_basement    1063\n",
       "yr_built         1076\n",
       "yr_renovated     1066\n",
       "zipcode          1072\n",
       "lat              1072\n",
       "long             1070\n",
       "sqft_living15    1082\n",
       "sqft_lot15       1066\n",
       "dtype: int64"
      ]
     },
     "execution_count": 6,
     "metadata": {},
     "output_type": "execute_result"
    }
   ],
   "source": [
    "data.isna().sum()"
   ]
  },
  {
   "cell_type": "code",
   "execution_count": 7,
   "metadata": {},
   "outputs": [
    {
     "data": {
      "text/html": [
       "<div>\n",
       "<style scoped>\n",
       "    .dataframe tbody tr th:only-of-type {\n",
       "        vertical-align: middle;\n",
       "    }\n",
       "\n",
       "    .dataframe tbody tr th {\n",
       "        vertical-align: top;\n",
       "    }\n",
       "\n",
       "    .dataframe thead th {\n",
       "        text-align: right;\n",
       "    }\n",
       "</style>\n",
       "<table border=\"1\" class=\"dataframe\">\n",
       "  <thead>\n",
       "    <tr style=\"text-align: right;\">\n",
       "      <th></th>\n",
       "      <th>id</th>\n",
       "      <th>date</th>\n",
       "      <th>price</th>\n",
       "      <th>bedrooms</th>\n",
       "      <th>bathrooms</th>\n",
       "      <th>sqft_living</th>\n",
       "      <th>sqft_lot</th>\n",
       "      <th>floors</th>\n",
       "      <th>waterfront</th>\n",
       "      <th>view</th>\n",
       "      <th>...</th>\n",
       "      <th>grade</th>\n",
       "      <th>sqft_above</th>\n",
       "      <th>sqft_basement</th>\n",
       "      <th>yr_built</th>\n",
       "      <th>yr_renovated</th>\n",
       "      <th>zipcode</th>\n",
       "      <th>lat</th>\n",
       "      <th>long</th>\n",
       "      <th>sqft_living15</th>\n",
       "      <th>sqft_lot15</th>\n",
       "    </tr>\n",
       "  </thead>\n",
       "  <tbody>\n",
       "    <tr>\n",
       "      <th>0</th>\n",
       "      <td>7129300520</td>\n",
       "      <td>10/13/2014</td>\n",
       "      <td>221900.0</td>\n",
       "      <td>3</td>\n",
       "      <td>1.0</td>\n",
       "      <td>1180</td>\n",
       "      <td>5650</td>\n",
       "      <td>1.0</td>\n",
       "      <td>0</td>\n",
       "      <td>0</td>\n",
       "      <td>...</td>\n",
       "      <td>7</td>\n",
       "      <td>1180</td>\n",
       "      <td>0</td>\n",
       "      <td>1955</td>\n",
       "      <td>0</td>\n",
       "      <td>98178</td>\n",
       "      <td>47.5112</td>\n",
       "      <td>-122.257</td>\n",
       "      <td>1340</td>\n",
       "      <td>5650</td>\n",
       "    </tr>\n",
       "    <tr>\n",
       "      <th>1</th>\n",
       "      <td>6414100192</td>\n",
       "      <td>12/9/2014</td>\n",
       "      <td>538000.0</td>\n",
       "      <td>3</td>\n",
       "      <td>2.25</td>\n",
       "      <td>2570</td>\n",
       "      <td>7242</td>\n",
       "      <td>2.0</td>\n",
       "      <td>0</td>\n",
       "      <td>0</td>\n",
       "      <td>...</td>\n",
       "      <td>7</td>\n",
       "      <td>2170</td>\n",
       "      <td>400</td>\n",
       "      <td>1951</td>\n",
       "      <td>1991</td>\n",
       "      <td>98125</td>\n",
       "      <td>47.721000000000004</td>\n",
       "      <td>NaN</td>\n",
       "      <td>1690</td>\n",
       "      <td>7639</td>\n",
       "    </tr>\n",
       "    <tr>\n",
       "      <th>2</th>\n",
       "      <td>5631500400</td>\n",
       "      <td>2/25/2015</td>\n",
       "      <td>180000.0</td>\n",
       "      <td>2</td>\n",
       "      <td>1.0</td>\n",
       "      <td>770</td>\n",
       "      <td>10000</td>\n",
       "      <td>1.0</td>\n",
       "      <td>0</td>\n",
       "      <td>0</td>\n",
       "      <td>...</td>\n",
       "      <td>6</td>\n",
       "      <td>770</td>\n",
       "      <td>0</td>\n",
       "      <td>NaN</td>\n",
       "      <td>0</td>\n",
       "      <td>NaN</td>\n",
       "      <td>47.7379</td>\n",
       "      <td>-122.23299999999999</td>\n",
       "      <td>2720</td>\n",
       "      <td>8062</td>\n",
       "    </tr>\n",
       "    <tr>\n",
       "      <th>3</th>\n",
       "      <td>2487200875</td>\n",
       "      <td>12/9/2014</td>\n",
       "      <td>604000.0</td>\n",
       "      <td>4</td>\n",
       "      <td>3.0</td>\n",
       "      <td>1960</td>\n",
       "      <td>5000</td>\n",
       "      <td>1.0</td>\n",
       "      <td>0</td>\n",
       "      <td>0</td>\n",
       "      <td>...</td>\n",
       "      <td>7</td>\n",
       "      <td>1050</td>\n",
       "      <td>NaN</td>\n",
       "      <td>1965</td>\n",
       "      <td>0</td>\n",
       "      <td>NaN</td>\n",
       "      <td>47.5208</td>\n",
       "      <td>-122.39299999999999</td>\n",
       "      <td>1360</td>\n",
       "      <td>5000</td>\n",
       "    </tr>\n",
       "    <tr>\n",
       "      <th>4</th>\n",
       "      <td>1954400510</td>\n",
       "      <td>2/18/2015</td>\n",
       "      <td>510000.0</td>\n",
       "      <td>3</td>\n",
       "      <td>2.0</td>\n",
       "      <td>1680</td>\n",
       "      <td>8080</td>\n",
       "      <td>1.0</td>\n",
       "      <td>0</td>\n",
       "      <td>0</td>\n",
       "      <td>...</td>\n",
       "      <td>8</td>\n",
       "      <td>1680</td>\n",
       "      <td>0</td>\n",
       "      <td>1987</td>\n",
       "      <td>0</td>\n",
       "      <td>98074</td>\n",
       "      <td>47.6168</td>\n",
       "      <td>-122.045</td>\n",
       "      <td>1800</td>\n",
       "      <td>7503</td>\n",
       "    </tr>\n",
       "  </tbody>\n",
       "</table>\n",
       "<p>5 rows × 21 columns</p>\n",
       "</div>"
      ],
      "text/plain": [
       "           id        date     price bedrooms bathrooms sqft_living sqft_lot  \\\n",
       "0  7129300520  10/13/2014  221900.0        3       1.0        1180     5650   \n",
       "1  6414100192   12/9/2014  538000.0        3      2.25        2570     7242   \n",
       "2  5631500400   2/25/2015  180000.0        2       1.0         770    10000   \n",
       "3  2487200875   12/9/2014  604000.0        4       3.0        1960     5000   \n",
       "4  1954400510   2/18/2015  510000.0        3       2.0        1680     8080   \n",
       "\n",
       "  floors waterfront view  ... grade sqft_above sqft_basement yr_built  \\\n",
       "0    1.0          0    0  ...     7       1180             0     1955   \n",
       "1    2.0          0    0  ...     7       2170           400     1951   \n",
       "2    1.0          0    0  ...     6        770             0      NaN   \n",
       "3    1.0          0    0  ...     7       1050           NaN     1965   \n",
       "4    1.0          0    0  ...     8       1680             0     1987   \n",
       "\n",
       "  yr_renovated zipcode                 lat                 long sqft_living15  \\\n",
       "0            0   98178             47.5112             -122.257          1340   \n",
       "1         1991   98125  47.721000000000004                  NaN          1690   \n",
       "2            0     NaN             47.7379  -122.23299999999999          2720   \n",
       "3            0     NaN             47.5208  -122.39299999999999          1360   \n",
       "4            0   98074             47.6168             -122.045          1800   \n",
       "\n",
       "  sqft_lot15  \n",
       "0       5650  \n",
       "1       7639  \n",
       "2       8062  \n",
       "3       5000  \n",
       "4       7503  \n",
       "\n",
       "[5 rows x 21 columns]"
      ]
     },
     "execution_count": 7,
     "metadata": {},
     "output_type": "execute_result"
    }
   ],
   "source": [
    "data.head()"
   ]
  },
  {
   "cell_type": "code",
   "execution_count": 8,
   "metadata": {},
   "outputs": [],
   "source": [
    "data = data.drop([ 'id','date'], axis = 1)"
   ]
  },
  {
   "cell_type": "code",
   "execution_count": 9,
   "metadata": {},
   "outputs": [
    {
     "data": {
      "text/html": [
       "<div>\n",
       "<style scoped>\n",
       "    .dataframe tbody tr th:only-of-type {\n",
       "        vertical-align: middle;\n",
       "    }\n",
       "\n",
       "    .dataframe tbody tr th {\n",
       "        vertical-align: top;\n",
       "    }\n",
       "\n",
       "    .dataframe thead th {\n",
       "        text-align: right;\n",
       "    }\n",
       "</style>\n",
       "<table border=\"1\" class=\"dataframe\">\n",
       "  <thead>\n",
       "    <tr style=\"text-align: right;\">\n",
       "      <th></th>\n",
       "      <th>price</th>\n",
       "      <th>bedrooms</th>\n",
       "      <th>bathrooms</th>\n",
       "      <th>sqft_living</th>\n",
       "      <th>sqft_lot</th>\n",
       "      <th>floors</th>\n",
       "      <th>waterfront</th>\n",
       "      <th>view</th>\n",
       "      <th>condition</th>\n",
       "      <th>grade</th>\n",
       "      <th>sqft_above</th>\n",
       "      <th>sqft_basement</th>\n",
       "      <th>yr_built</th>\n",
       "      <th>yr_renovated</th>\n",
       "      <th>zipcode</th>\n",
       "      <th>lat</th>\n",
       "      <th>long</th>\n",
       "      <th>sqft_living15</th>\n",
       "      <th>sqft_lot15</th>\n",
       "    </tr>\n",
       "  </thead>\n",
       "  <tbody>\n",
       "    <tr>\n",
       "      <th>0</th>\n",
       "      <td>221900.0</td>\n",
       "      <td>3</td>\n",
       "      <td>1.0</td>\n",
       "      <td>1180</td>\n",
       "      <td>5650</td>\n",
       "      <td>1.0</td>\n",
       "      <td>0</td>\n",
       "      <td>0</td>\n",
       "      <td>3</td>\n",
       "      <td>7</td>\n",
       "      <td>1180</td>\n",
       "      <td>0</td>\n",
       "      <td>1955</td>\n",
       "      <td>0</td>\n",
       "      <td>98178</td>\n",
       "      <td>47.5112</td>\n",
       "      <td>-122.257</td>\n",
       "      <td>1340</td>\n",
       "      <td>5650</td>\n",
       "    </tr>\n",
       "    <tr>\n",
       "      <th>1</th>\n",
       "      <td>538000.0</td>\n",
       "      <td>3</td>\n",
       "      <td>2.25</td>\n",
       "      <td>2570</td>\n",
       "      <td>7242</td>\n",
       "      <td>2.0</td>\n",
       "      <td>0</td>\n",
       "      <td>0</td>\n",
       "      <td>3</td>\n",
       "      <td>7</td>\n",
       "      <td>2170</td>\n",
       "      <td>400</td>\n",
       "      <td>1951</td>\n",
       "      <td>1991</td>\n",
       "      <td>98125</td>\n",
       "      <td>47.721000000000004</td>\n",
       "      <td>NaN</td>\n",
       "      <td>1690</td>\n",
       "      <td>7639</td>\n",
       "    </tr>\n",
       "    <tr>\n",
       "      <th>2</th>\n",
       "      <td>180000.0</td>\n",
       "      <td>2</td>\n",
       "      <td>1.0</td>\n",
       "      <td>770</td>\n",
       "      <td>10000</td>\n",
       "      <td>1.0</td>\n",
       "      <td>0</td>\n",
       "      <td>0</td>\n",
       "      <td>3</td>\n",
       "      <td>6</td>\n",
       "      <td>770</td>\n",
       "      <td>0</td>\n",
       "      <td>NaN</td>\n",
       "      <td>0</td>\n",
       "      <td>NaN</td>\n",
       "      <td>47.7379</td>\n",
       "      <td>-122.23299999999999</td>\n",
       "      <td>2720</td>\n",
       "      <td>8062</td>\n",
       "    </tr>\n",
       "    <tr>\n",
       "      <th>3</th>\n",
       "      <td>604000.0</td>\n",
       "      <td>4</td>\n",
       "      <td>3.0</td>\n",
       "      <td>1960</td>\n",
       "      <td>5000</td>\n",
       "      <td>1.0</td>\n",
       "      <td>0</td>\n",
       "      <td>0</td>\n",
       "      <td>5</td>\n",
       "      <td>7</td>\n",
       "      <td>1050</td>\n",
       "      <td>NaN</td>\n",
       "      <td>1965</td>\n",
       "      <td>0</td>\n",
       "      <td>NaN</td>\n",
       "      <td>47.5208</td>\n",
       "      <td>-122.39299999999999</td>\n",
       "      <td>1360</td>\n",
       "      <td>5000</td>\n",
       "    </tr>\n",
       "    <tr>\n",
       "      <th>4</th>\n",
       "      <td>510000.0</td>\n",
       "      <td>3</td>\n",
       "      <td>2.0</td>\n",
       "      <td>1680</td>\n",
       "      <td>8080</td>\n",
       "      <td>1.0</td>\n",
       "      <td>0</td>\n",
       "      <td>0</td>\n",
       "      <td>3</td>\n",
       "      <td>8</td>\n",
       "      <td>1680</td>\n",
       "      <td>0</td>\n",
       "      <td>1987</td>\n",
       "      <td>0</td>\n",
       "      <td>98074</td>\n",
       "      <td>47.6168</td>\n",
       "      <td>-122.045</td>\n",
       "      <td>1800</td>\n",
       "      <td>7503</td>\n",
       "    </tr>\n",
       "  </tbody>\n",
       "</table>\n",
       "</div>"
      ],
      "text/plain": [
       "      price bedrooms bathrooms sqft_living sqft_lot floors waterfront view  \\\n",
       "0  221900.0        3       1.0        1180     5650    1.0          0    0   \n",
       "1  538000.0        3      2.25        2570     7242    2.0          0    0   \n",
       "2  180000.0        2       1.0         770    10000    1.0          0    0   \n",
       "3  604000.0        4       3.0        1960     5000    1.0          0    0   \n",
       "4  510000.0        3       2.0        1680     8080    1.0          0    0   \n",
       "\n",
       "  condition grade sqft_above sqft_basement yr_built yr_renovated zipcode  \\\n",
       "0         3     7       1180             0     1955            0   98178   \n",
       "1         3     7       2170           400     1951         1991   98125   \n",
       "2         3     6        770             0      NaN            0     NaN   \n",
       "3         5     7       1050           NaN     1965            0     NaN   \n",
       "4         3     8       1680             0     1987            0   98074   \n",
       "\n",
       "                  lat                 long sqft_living15 sqft_lot15  \n",
       "0             47.5112             -122.257          1340       5650  \n",
       "1  47.721000000000004                  NaN          1690       7639  \n",
       "2             47.7379  -122.23299999999999          2720       8062  \n",
       "3             47.5208  -122.39299999999999          1360       5000  \n",
       "4             47.6168             -122.045          1800       7503  "
      ]
     },
     "execution_count": 9,
     "metadata": {},
     "output_type": "execute_result"
    }
   ],
   "source": [
    "data.head()"
   ]
  },
  {
   "cell_type": "markdown",
   "metadata": {},
   "source": [
    "# Dealing with missing values"
   ]
  },
  {
   "cell_type": "code",
   "execution_count": 10,
   "metadata": {},
   "outputs": [],
   "source": [
    "data['price'] = data['price'].astype(float)\n",
    "data['bathrooms'] = data['bathrooms'].astype(float)\n",
    "data['bedrooms'] = data['bedrooms'].astype(float)\n",
    "data['sqft_living'] = data['sqft_living'].astype(float)\n",
    "data['sqft_lot'] = data['sqft_lot'].astype(float)\n",
    "data['floors'] = data['floors'].astype(float)\n",
    "data['waterfront'] = data['waterfront'].astype(float)\n",
    "data['view'] = data['view'].astype(float)\n",
    "data['condition'] = data['condition'].astype(float)\n",
    "data['grade'] = data['grade'].astype(float)\n",
    "data['sqft_above'] = data['sqft_above'].astype(float)\n",
    "data['sqft_basement'] = data['sqft_basement'].astype(float)\n",
    "data['yr_built'] = data['yr_built'].astype(float)\n",
    "data['yr_renovated'] = data['yr_renovated'].astype(float)\n",
    "data['zipcode'] = data['price'].astype(float)\n",
    "data['lat'] = data['zipcode'].astype(float)\n",
    "data['long'] = data['long'].astype(float)\n",
    "data['sqft_living15'] = data['sqft_living15'].astype(float)\n",
    "data['sqft_lot15'] = data['sqft_lot15'].astype(float)"
   ]
  },
  {
   "cell_type": "markdown",
   "metadata": {},
   "source": [
    "Replacing Nulls with Mean"
   ]
  },
  {
   "cell_type": "code",
   "execution_count": 11,
   "metadata": {},
   "outputs": [],
   "source": [
    "data.fillna(data.mean(), inplace=True)"
   ]
  },
  {
   "cell_type": "code",
   "execution_count": 12,
   "metadata": {},
   "outputs": [
    {
     "data": {
      "text/plain": [
       "price            0\n",
       "bedrooms         0\n",
       "bathrooms        0\n",
       "sqft_living      0\n",
       "sqft_lot         0\n",
       "floors           0\n",
       "waterfront       0\n",
       "view             0\n",
       "condition        0\n",
       "grade            0\n",
       "sqft_above       0\n",
       "sqft_basement    0\n",
       "yr_built         0\n",
       "yr_renovated     0\n",
       "zipcode          0\n",
       "lat              0\n",
       "long             0\n",
       "sqft_living15    0\n",
       "sqft_lot15       0\n",
       "dtype: int64"
      ]
     },
     "execution_count": 12,
     "metadata": {},
     "output_type": "execute_result"
    }
   ],
   "source": [
    "data.isna().sum()"
   ]
  },
  {
   "cell_type": "markdown",
   "metadata": {},
   "source": [
    "### Histogram of Dataset"
   ]
  },
  {
   "cell_type": "code",
   "execution_count": 14,
   "metadata": {},
   "outputs": [
    {
     "data": {
      "image/png": "[encoded data removed]",
      "text/plain": [
       "<Figure size 2880x2880 with 20 Axes>"
      ]
     },
     "metadata": {
      "needs_background": "light"
     },
     "output_type": "display_data"
    }
   ],
   "source": [
    "pd.DataFrame.hist(data, figsize = [40,40]);"
   ]
  },
  {
   "cell_type": "markdown",
   "metadata": {},
   "source": [
    "# Scaling and Splitting the Data"
   ]
  },
  {
   "cell_type": "code",
   "execution_count": 15,
   "metadata": {},
   "outputs": [],
   "source": [
    "from sklearn.preprocessing import StandardScaler\n",
    "from sklearn.model_selection import train_test_split"
   ]
  },
  {
   "cell_type": "code",
   "execution_count": 16,
   "metadata": {},
   "outputs": [],
   "source": [
    "y = data['price']\n",
    "X = data.drop(['price', 'lat','long', 'sqft_living15', 'sqft_lot15', 'zipcode'], axis = 1)"
   ]
  },
  {
   "cell_type": "code",
   "execution_count": 18,
   "metadata": {},
   "outputs": [],
   "source": [
    "X_train_org, X_test_org, y_train, y_test = train_test_split(X, y, random_state = 0)\n",
    "\n",
    "scaler = StandardScaler()\n",
    "X_train = scaler.fit_transform(X_train_org)\n",
    "X_test = scaler.transform(X_test_org)\n"
   ]
  },
  {
   "cell_type": "markdown",
   "metadata": {},
   "source": [
    "# K Neighbors Regressor"
   ]
  },
  {
   "cell_type": "code",
   "execution_count": 19,
   "metadata": {
    "scrolled": true
   },
   "outputs": [
    {
     "data": {
      "text/plain": [
       "Text(0, 0.5, 'MSE')"
      ]
     },
     "execution_count": 19,
     "metadata": {},
     "output_type": "execute_result"
    },
    {
     "data": {
      "image/png": "[encoded data removed]",
      "text/plain": [
       "<Figure size 432x288 with 1 Axes>"
      ]
     },
     "metadata": {
      "needs_background": "light"
     },
     "output_type": "display_data"
    }
   ],
   "source": [
    "import matplotlib.pyplot as plt\n",
    "from pandas.plotting import scatter_matrix\n",
    "from sklearn.neighbors import KNeighborsRegressor\n",
    "%matplotlib inline\n",
    "train_score_array = []\n",
    "test_score_array = []\n",
    "\n",
    "for k in range(1,20):\n",
    "    knn_reg = KNeighborsRegressor(k)\n",
    "    knn_reg.fit(X_train, y_train)\n",
    "    train_score_array.append(knn_reg.score(X_train, y_train))\n",
    "    test_score_array.append(knn_reg.score(X_test, y_test))\n",
    "\n",
    "x_axis = range(1,20)\n",
    "plt.plot(x_axis, train_score_array, c = 'g', label = 'Train Score')\n",
    "plt.plot(x_axis, test_score_array, c = 'b', label = 'Test Score')\n",
    "plt.legend()\n",
    "plt.xlabel('k')\n",
    "plt.ylabel('MSE')"
   ]
  },
  {
   "cell_type": "markdown",
   "metadata": {},
   "source": [
    "k=7 is the best choice"
   ]
  },
  {
   "cell_type": "code",
   "execution_count": 20,
   "metadata": {},
   "outputs": [
    {
     "data": {
      "text/plain": [
       "KNeighborsRegressor(algorithm='auto', leaf_size=30, metric='minkowski',\n",
       "                    metric_params=None, n_jobs=None, n_neighbors=7, p=2,\n",
       "                    weights='uniform')"
      ]
     },
     "execution_count": 20,
     "metadata": {},
     "output_type": "execute_result"
    }
   ],
   "source": [
    "knn = KNeighborsRegressor(7)\n",
    "knn.fit(X_train, y_train)"
   ]
  },
  {
   "cell_type": "code",
   "execution_count": 21,
   "metadata": {},
   "outputs": [
    {
     "name": "stdout",
     "output_type": "stream",
     "text": [
      "Train score : 0.7099131413558875\n",
      "Test score : 0.6242015858557605\n"
     ]
    }
   ],
   "source": [
    "print(\"Train score :\", knn.score(X_train, y_train))\n",
    "print(\"Test score :\", knn.score(X_test, y_test))"
   ]
  },
  {
   "cell_type": "code",
   "execution_count": 22,
   "metadata": {},
   "outputs": [
    {
     "name": "stdout",
     "output_type": "stream",
     "text": [
      "Mean Absoulte Error is : 135118.6940199075\n",
      "Mean Squared Error is : 42442055640.4995\n",
      "R-sqaure score is:  0.6242015858557605\n"
     ]
    }
   ],
   "source": [
    "y_pred= knn.predict(X_test)\n",
    "\n",
    "print(\"Mean Absoulte Error is :\",mean_absolute_error(y_test, y_pred))\n",
    "print(\"Mean Squared Error is :\",mean_squared_error(y_test, y_pred))\n",
    "print(\"R-sqaure score is: \",r2_score(y_test, y_pred))"
   ]
  },
  {
   "cell_type": "markdown",
   "metadata": {},
   "source": [
    "# Linear regression using the Normal Equation"
   ]
  },
  {
   "cell_type": "code",
   "execution_count": 23,
   "metadata": {},
   "outputs": [
    {
     "name": "stdout",
     "output_type": "stream",
     "text": [
      "Train score : 0.603757575911954\n",
      "Test score : 0.6209289093076443\n"
     ]
    }
   ],
   "source": [
    "from sklearn.linear_model import LinearRegression\n",
    "\n",
    "lreg = LinearRegression()\n",
    "lreg.fit(X_train, y_train)\n",
    "print(\"Train score :\",lreg.score(X_train, y_train))\n",
    "print(\"Test score :\",lreg.score(X_test, y_test))"
   ]
  },
  {
   "cell_type": "code",
   "execution_count": 24,
   "metadata": {},
   "outputs": [
    {
     "name": "stdout",
     "output_type": "stream",
     "text": [
      "Mean Absoulte Error is : 140615.17304556616\n",
      "Mean Squared Error is : 42811666354.43719\n",
      "R-sqaure score is:  0.6209289093076443\n"
     ]
    }
   ],
   "source": [
    "y_pred = lreg.predict(X_test)\n",
    "print(\"Mean Absoulte Error is :\",mean_absolute_error(y_test, y_pred))\n",
    "print(\"Mean Squared Error is :\",mean_squared_error(y_test, y_pred))\n",
    "print(\"R-sqaure score is: \",r2_score(y_test, y_pred))"
   ]
  },
  {
   "cell_type": "markdown",
   "metadata": {},
   "source": [
    "# SGD Regressor"
   ]
  },
  {
   "cell_type": "code",
   "execution_count": 25,
   "metadata": {},
   "outputs": [
    {
     "name": "stdout",
     "output_type": "stream",
     "text": [
      "Train Score is:  0.5648566630486863\n",
      "Test Score is:  0.5850358453513358\n"
     ]
    }
   ],
   "source": [
    "from sklearn.linear_model import SGDRegressor\n",
    "\n",
    "sgd_reg = SGDRegressor(random_state= 0, max_iter = 100000, learning_rate = 'optimal', penalty = 'l2')\n",
    "sgd_reg.fit(X_train, y_train)\n",
    "print(\"Train Score is: \", sgd_reg.score(X_train, y_train))\n",
    "print(\"Test Score is: \",sgd_reg.score(X_test, y_test))"
   ]
  },
  {
   "cell_type": "code",
   "execution_count": 26,
   "metadata": {},
   "outputs": [
    {
     "data": {
      "text/plain": [
       "array([-15259.68761055,  39124.36180457,  89633.59166374, -10786.8929003 ,\n",
       "        -7042.7793857 ,  77522.05819395,  36917.88927606,   1219.18896927,\n",
       "       103695.81705352,  20423.39019314,  25859.22442448, -74445.9783741 ,\n",
       "        40936.42452144])"
      ]
     },
     "execution_count": 26,
     "metadata": {},
     "output_type": "execute_result"
    }
   ],
   "source": [
    "sgd_reg.coef_"
   ]
  },
  {
   "cell_type": "code",
   "execution_count": 27,
   "metadata": {},
   "outputs": [
    {
     "data": {
      "text/plain": [
       "array([526278.68722324])"
      ]
     },
     "execution_count": 27,
     "metadata": {},
     "output_type": "execute_result"
    }
   ],
   "source": [
    "sgd_reg.intercept_"
   ]
  },
  {
   "cell_type": "code",
   "execution_count": 28,
   "metadata": {},
   "outputs": [
    {
     "data": {
      "text/plain": [
       "64"
      ]
     },
     "execution_count": 28,
     "metadata": {},
     "output_type": "execute_result"
    }
   ],
   "source": [
    "sgd_reg.n_iter_"
   ]
  },
  {
   "cell_type": "code",
   "execution_count": 29,
   "metadata": {},
   "outputs": [
    {
     "name": "stdout",
     "output_type": "stream",
     "text": [
      "Mean Absoulte Error is : 141819.53259034586\n",
      "Mean Squared Error is : 46865370042.917755\n",
      "R-sqaure score is:  0.5850358453513358\n"
     ]
    }
   ],
   "source": [
    "y_pred = sgd_reg.predict(X_test)\n",
    "print(\"Mean Absoulte Error is :\",mean_absolute_error(y_test, y_pred))\n",
    "print(\"Mean Squared Error is :\",mean_squared_error(y_test, y_pred))\n",
    "print(\"R-sqaure score is: \",r2_score(y_test, y_pred))"
   ]
  },
  {
   "cell_type": "markdown",
   "metadata": {},
   "source": [
    "# Polynomial regression"
   ]
  },
  {
   "cell_type": "code",
   "execution_count": 30,
   "metadata": {},
   "outputs": [],
   "source": [
    "from  sklearn.preprocessing  import PolynomialFeatures\n",
    "\n",
    "train_score_list = []\n",
    "test_score_list = []\n",
    "\n",
    "for n in range(1,3):\n",
    "    poly = PolynomialFeatures(n)\n",
    "    X_train_poly = poly.fit_transform(X_train)\n",
    "    X_test_poly = poly.transform(X_test)\n",
    "    lreg.fit(X_train_poly, y_train)\n",
    "    train_score_list.append(lreg.score(X_train_poly, y_train))\n",
    "    test_score_list.append(lreg.score(X_test_poly, y_test))"
   ]
  },
  {
   "cell_type": "code",
   "execution_count": 31,
   "metadata": {},
   "outputs": [
    {
     "name": "stdout",
     "output_type": "stream",
     "text": [
      "[0.603757575911954, 0.6965828112286102]\n",
      "[0.6209289093076444, 0.6613866219049456]\n"
     ]
    }
   ],
   "source": [
    "print(train_score_list)\n",
    "print(test_score_list)"
   ]
  },
  {
   "cell_type": "code",
   "execution_count": 32,
   "metadata": {},
   "outputs": [
    {
     "data": {
      "text/plain": [
       "<matplotlib.legend.Legend at 0x1f6764d8eb8>"
      ]
     },
     "execution_count": 32,
     "metadata": {},
     "output_type": "execute_result"
    },
    {
     "data": {
      "image/png": "[encoded data removed]",
      "text/plain": [
       "<Figure size 432x288 with 1 Axes>"
      ]
     },
     "metadata": {
      "needs_background": "light"
     },
     "output_type": "display_data"
    }
   ],
   "source": [
    "%matplotlib inline\n",
    "\n",
    "x_axis = range(1,3)\n",
    "plt.plot(x_axis, train_score_list, c = 'g', label = 'Train Score')\n",
    "plt.plot(x_axis, test_score_list, c = 'b', label = 'Test Score')\n",
    "plt.xlabel('degree')\n",
    "plt.ylabel('accuracy')\n",
    "plt.legend()"
   ]
  },
  {
   "cell_type": "code",
   "execution_count": 33,
   "metadata": {},
   "outputs": [
    {
     "data": {
      "text/plain": [
       "[<matplotlib.lines.Line2D at 0x1f6766f6518>]"
      ]
     },
     "execution_count": 33,
     "metadata": {},
     "output_type": "execute_result"
    },
    {
     "data": {
      "image/png": "[encoded data removed]",
      "text/plain": [
       "<Figure size 432x288 with 1 Axes>"
      ]
     },
     "metadata": {
      "needs_background": "light"
     },
     "output_type": "display_data"
    }
   ],
   "source": [
    "poly = PolynomialFeatures(1)\n",
    "X_train_1 = X_train[:,0].reshape(-1,1)\n",
    "X_test_1 = X_test[:,0].reshape(-1,1)\n",
    "X_train_poly = poly.fit_transform(X_train_1)\n",
    "lreg.fit(X_train_poly, y_train)\n",
    "\n",
    "x_axis = np.linspace(0,1,100).reshape(-1,1)\n",
    "x_poly = poly.transform(X_test_1)\n",
    "y_predict = lreg.predict(x_poly)\n",
    "\n",
    "plt.scatter(X_train_1,y_train)\n",
    "plt.plot(X_test_1, y_predict, c='r')"
   ]
  },
  {
   "cell_type": "markdown",
   "metadata": {},
   "source": [
    "# Ridge"
   ]
  },
  {
   "cell_type": "code",
   "execution_count": 34,
   "metadata": {},
   "outputs": [],
   "source": [
    "from sklearn.preprocessing import MinMaxScaler\n",
    "scaler = MinMaxScaler()\n",
    "X_train = scaler.fit_transform(X_train_org)\n",
    "X_test = scaler.transform(X_test_org)"
   ]
  },
  {
   "cell_type": "code",
   "execution_count": 35,
   "metadata": {},
   "outputs": [],
   "source": [
    "from  sklearn.linear_model import Ridge\n",
    "\n",
    "x_range = [0.01, 0.1, 1, 10, 100]\n",
    "train_score_list = []\n",
    "test_score_list = []\n",
    "\n",
    "for alpha in x_range: \n",
    "    ridge = Ridge(alpha)\n",
    "    ridge.fit(X_train,y_train)\n",
    "    train_score_list.append(ridge.score(X_train,y_train))\n",
    "    test_score_list.append(ridge.score(X_test, y_test))"
   ]
  },
  {
   "cell_type": "code",
   "execution_count": 36,
   "metadata": {
    "scrolled": true
   },
   "outputs": [
    {
     "data": {
      "text/plain": [
       "Text(0.5, 0, '$\\\\alpha$')"
      ]
     },
     "execution_count": 36,
     "metadata": {},
     "output_type": "execute_result"
    },
    {
     "data": {
      "image/png": "[encoded data removed]",
      "text/plain": [
       "<Figure size 432x288 with 1 Axes>"
      ]
     },
     "metadata": {
      "needs_background": "light"
     },
     "output_type": "display_data"
    }
   ],
   "source": [
    "%matplotlib inline\n",
    "import matplotlib.pyplot as plt\n",
    "plt.plot(x_range, train_score_list, c = 'g', label = 'Train Score')\n",
    "plt.plot(x_range, test_score_list, c = 'b', label = 'Test Score')\n",
    "plt.xscale('log')\n",
    "plt.legend(loc = 3)\n",
    "plt.xlabel(r'$\\alpha$')"
   ]
  },
  {
   "cell_type": "code",
   "execution_count": 37,
   "metadata": {},
   "outputs": [
    {
     "name": "stdout",
     "output_type": "stream",
     "text": [
      "[0.6037575640273771, 0.6037564138819527, 0.6036631907648455, 0.6010024455726357, 0.5719245972869522]\n",
      "[0.6209355881771671, 0.6209939949229439, 0.6214394605084115, 0.6217582616413899, 0.6006495848650166]\n"
     ]
    }
   ],
   "source": [
    "print(train_score_list)\n",
    "print(test_score_list)"
   ]
  },
  {
   "cell_type": "code",
   "execution_count": 38,
   "metadata": {},
   "outputs": [
    {
     "data": {
      "image/png": "[encoded data removed]",
      "text/plain": [
       "<Figure size 432x288 with 1 Axes>"
      ]
     },
     "metadata": {
      "needs_background": "light"
     },
     "output_type": "display_data"
    }
   ],
   "source": [
    "%matplotlib inline\n",
    "import numpy as np\n",
    "\n",
    "x_range1 = np.linspace(0.001, 1, 100).reshape(-1,1)\n",
    "x_range2 = np.linspace(1, 10000, 10000).reshape(-1,1)\n",
    "\n",
    "x_range = np.append(x_range1, x_range2)\n",
    "coeff = []\n",
    "\n",
    "for alpha in x_range: \n",
    "    ridge = Ridge(alpha)\n",
    "    ridge.fit(X_train,y_train)\n",
    "    coeff.append(ridge.coef_ )\n",
    "    \n",
    "coeff = np.array(coeff)\n",
    "\n",
    "for i in range(0,13):\n",
    "    plt.plot(x_range, coeff[:,i], label = 'feature {:d}'.format(i))\n",
    "\n",
    "plt.axhline(y=0, xmin=0.001, xmax=9999, linewidth=1, c ='gray')\n",
    "plt.xlabel(r'$\\alpha$')\n",
    "plt.xscale('log')\n",
    "plt.legend(loc='upper center', bbox_to_anchor=(0.5, 1.5),\n",
    "          ncol=3, fancybox=True, shadow=True)\n",
    "plt.show()"
   ]
  },
  {
   "cell_type": "markdown",
   "metadata": {},
   "source": [
    "This suggests that the best $\\alpha$ parameter is 10"
   ]
  },
  {
   "cell_type": "code",
   "execution_count": 39,
   "metadata": {},
   "outputs": [
    {
     "name": "stdout",
     "output_type": "stream",
     "text": [
      "Train score: 0.6010\n",
      "Test score: 0.6218\n"
     ]
    }
   ],
   "source": [
    "ridge = Ridge(alpha = 10)\n",
    "ridge.fit(X_train,y_train)\n",
    "print('Train score: {:.4f}'.format(ridge.score(X_train,y_train)))\n",
    "print('Test score: {:.4f}'.format(ridge.score(X_test, y_test)))"
   ]
  },
  {
   "cell_type": "code",
   "execution_count": 40,
   "metadata": {},
   "outputs": [
    {
     "data": {
      "text/plain": [
       "array([-414065.2327669 ,  331112.07541971,  845803.80398519,\n",
       "       -169062.96827056,   61309.30188715,  512558.36817423,\n",
       "        217617.08850658,   79920.54944656, 1013882.48457891,\n",
       "        796636.38767994,  415010.01607495, -341495.33119168,\n",
       "         43632.65606895])"
      ]
     },
     "execution_count": 40,
     "metadata": {},
     "output_type": "execute_result"
    }
   ],
   "source": [
    "ridge.coef_"
   ]
  },
  {
   "cell_type": "code",
   "execution_count": 41,
   "metadata": {},
   "outputs": [
    {
     "data": {
      "text/plain": [
       "-41260.45041279122"
      ]
     },
     "execution_count": 41,
     "metadata": {},
     "output_type": "execute_result"
    }
   ],
   "source": [
    "ridge.intercept_"
   ]
  },
  {
   "cell_type": "code",
   "execution_count": 42,
   "metadata": {},
   "outputs": [
    {
     "name": "stdout",
     "output_type": "stream",
     "text": [
      "Mean Absoulte Error is : 139678.68332919566\n",
      "Mean Squared Error is : 42718000664.084114\n",
      "R-sqaure score is:  0.6217582616413899\n"
     ]
    }
   ],
   "source": [
    "y_pred = ridge.predict(X_test)\n",
    "print(\"Mean Absoulte Error is :\",mean_absolute_error(y_test, y_pred))\n",
    "print(\"Mean Squared Error is :\",mean_squared_error(y_test, y_pred))\n",
    "print(\"R-sqaure score is: \",r2_score(y_test, y_pred))"
   ]
  },
  {
   "cell_type": "markdown",
   "metadata": {},
   "source": [
    "# LASSO"
   ]
  },
  {
   "cell_type": "code",
   "execution_count": 43,
   "metadata": {},
   "outputs": [],
   "source": [
    "from sklearn.linear_model import Lasso\n",
    "x_range = [0.01, 0.1, 1, 10, 100]\n",
    "train_score_list = []\n",
    "test_score_list = []\n",
    "\n",
    "for alpha in x_range: \n",
    "    lasso = Lasso(alpha)\n",
    "    lasso.fit(X_train,y_train)\n",
    "    train_score_list.append(lasso.score(X_train,y_train))\n",
    "    test_score_list.append(lasso.score(X_test, y_test))"
   ]
  },
  {
   "cell_type": "code",
   "execution_count": 44,
   "metadata": {},
   "outputs": [
    {
     "data": {
      "text/plain": [
       "Text(0.5, 0, '$\\\\alpha$')"
      ]
     },
     "execution_count": 44,
     "metadata": {},
     "output_type": "execute_result"
    },
    {
     "data": {
      "image/png": "[encoded data removed]",
      "text/plain": [
       "<Figure size 432x288 with 1 Axes>"
      ]
     },
     "metadata": {
      "needs_background": "light"
     },
     "output_type": "display_data"
    }
   ],
   "source": [
    "plt.plot(x_range, train_score_list, c = 'g', label = 'Train Score')\n",
    "plt.plot(x_range, test_score_list, c = 'b', label = 'Test Score')\n",
    "plt.xscale('log')\n",
    "plt.legend(loc = 3)\n",
    "plt.xlabel(r'$\\alpha$')"
   ]
  },
  {
   "cell_type": "code",
   "execution_count": 45,
   "metadata": {},
   "outputs": [
    {
     "data": {
      "image/png": "[encoded data removed]",
      "text/plain": [
       "<Figure size 432x288 with 1 Axes>"
      ]
     },
     "metadata": {
      "needs_background": "light"
     },
     "output_type": "display_data"
    }
   ],
   "source": [
    "%matplotlib inline\n",
    "\n",
    "x_range1 = np.linspace(0.001, 1, 1000).reshape(-1,1)\n",
    "x_range2 = np.linspace(1, 1000, 1000).reshape(-1,1)\n",
    "\n",
    "x_range = np.append(x_range1, x_range2)\n",
    "coeff = []\n",
    "\n",
    "for alpha in x_range: \n",
    "    lasso = Lasso(alpha)\n",
    "    lasso.fit(X_train,y_train)\n",
    "    coeff.append(lasso.coef_ )\n",
    "    \n",
    "coeff = np.array(coeff)\n",
    "\n",
    "for i in range(0,13):\n",
    "    plt.plot(x_range, coeff[:,i], label = 'feature {:d}'.format(i))\n",
    "\n",
    "plt.axhline(y=0, xmin=0.001, xmax=9999, linewidth=1, c ='gray')\n",
    "plt.xlabel(r'$\\alpha$')\n",
    "plt.xscale('log')\n",
    "plt.legend(loc='upper center', bbox_to_anchor=(0.5, 1.5),\n",
    "          ncol=3, fancybox=True, shadow=True)\n",
    "plt.show()"
   ]
  },
  {
   "cell_type": "markdown",
   "metadata": {},
   "source": [
    "This suggests that the best $\\alpha$ parameter is 100"
   ]
  },
  {
   "cell_type": "code",
   "execution_count": 46,
   "metadata": {},
   "outputs": [
    {
     "name": "stdout",
     "output_type": "stream",
     "text": [
      "Train score: 0.6034\n",
      "Test score: 0.6218\n"
     ]
    }
   ],
   "source": [
    "lasso = Lasso(alpha = 100)\n",
    "lasso.fit(X_train,y_train)\n",
    "print('Train score: {:.4f}'.format(lasso.score(X_train,y_train)))\n",
    "print('Test score: {:.4f}'.format(lasso.score(X_test, y_test)))"
   ]
  },
  {
   "cell_type": "code",
   "execution_count": 47,
   "metadata": {},
   "outputs": [
    {
     "name": "stdout",
     "output_type": "stream",
     "text": [
      "Mean Absoulte Error is : 140382.98055789017\n",
      "Mean Squared Error is : 42716255330.04566\n",
      "R-sqaure score is:  0.6217737155055797\n"
     ]
    }
   ],
   "source": [
    "y_pred= lasso.predict(X_test)\n",
    "print(\"Mean Absoulte Error is :\",mean_absolute_error(y_test, y_pred))\n",
    "print(\"Mean Squared Error is :\",mean_squared_error(y_test, y_pred))\n",
    "print(\"R-sqaure score is: \",r2_score(y_test, y_pred))"
   ]
  },
  {
   "cell_type": "markdown",
   "metadata": {},
   "source": [
    "# Linear SVM"
   ]
  },
  {
   "cell_type": "code",
   "execution_count": 48,
   "metadata": {},
   "outputs": [
    {
     "name": "stdout",
     "output_type": "stream",
     "text": [
      "Train score : -1.9329614900438878\n",
      "Test score : -2.2239273174478003\n"
     ]
    }
   ],
   "source": [
    "from sklearn.svm import LinearSVR\n",
    "\n",
    "l_svr = LinearSVR(random_state=0)\n",
    "\n",
    "l_svr.fit(X_train,y_train)\n",
    "\n",
    "print(\"Train score :\",l_svr.score(X_train, y_train))\n",
    "print(\"Test score :\",l_svr.score(X_test, y_test))"
   ]
  },
  {
   "cell_type": "code",
   "execution_count": 49,
   "metadata": {},
   "outputs": [
    {
     "data": {
      "image/png": "[encoded data removed]",
      "text/plain": [
       "<Figure size 432x288 with 1 Axes>"
      ]
     },
     "metadata": {
      "needs_background": "light"
     },
     "output_type": "display_data"
    }
   ],
   "source": [
    "import matplotlib.pyplot as plt \n",
    "X_test1 = X_test[:, 0:1]\n",
    "plt.scatter(X_test1, y_test, s=5, color=\"blue\", label=\"original\")\n",
    "plt.plot(X_test1, y_pred, lw=1.5, color=\"red\", label=\"predicted\")\n",
    "plt.legend()\n",
    "plt.show() "
   ]
  },
  {
   "cell_type": "code",
   "execution_count": 50,
   "metadata": {},
   "outputs": [
    {
     "name": "stdout",
     "output_type": "stream",
     "text": [
      "Mean Absoulte Error is : 502059.7046016682\n",
      "Mean Squared Error is : 364105055897.14246\n",
      "R-sqaure score is:  -2.2239273174478003\n"
     ]
    }
   ],
   "source": [
    "y_pred = l_svr.predict(X_test)\n",
    "print(\"Mean Absoulte Error is :\",mean_absolute_error(y_test, y_pred))\n",
    "print(\"Mean Squared Error is :\",mean_squared_error(y_test, y_pred))\n",
    "print(\"R-sqaure score is: \",r2_score(y_test, y_pred))"
   ]
  },
  {
   "cell_type": "markdown",
   "metadata": {},
   "source": [
    "# SVM with Kernal"
   ]
  },
  {
   "cell_type": "code",
   "execution_count": 51,
   "metadata": {},
   "outputs": [
    {
     "name": "stderr",
     "output_type": "stream",
     "text": [
      "c:\\users\\shash\\appdata\\local\\programs\\python\\python36\\lib\\site-packages\\sklearn\\svm\\base.py:193: FutureWarning: The default value of gamma will change from 'auto' to 'scale' in version 0.22 to account better for unscaled features. Set gamma explicitly to 'auto' or 'scale' to avoid this warning.\n",
      "  \"avoid this warning.\", FutureWarning)\n"
     ]
    },
    {
     "name": "stdout",
     "output_type": "stream",
     "text": [
      "Train score : -0.040591342443026646\n",
      "Test score : -0.03863153798215868\n"
     ]
    }
   ],
   "source": [
    "from sklearn.svm import SVR\n",
    "\n",
    "svr = SVR(kernel = 'rbf')\n",
    "\n",
    "svr.fit(X_train,y_train)\n",
    "\n",
    "print(\"Train score :\",svr.score(X_train, y_train))\n",
    "print(\"Test score :\",svr.score(X_test, y_test))"
   ]
  },
  {
   "cell_type": "code",
   "execution_count": 52,
   "metadata": {},
   "outputs": [
    {
     "data": {
      "image/png": "[encoded data removed]",
      "text/plain": [
       "<Figure size 432x288 with 1 Axes>"
      ]
     },
     "metadata": {
      "needs_background": "light"
     },
     "output_type": "display_data"
    }
   ],
   "source": [
    "import matplotlib.pyplot as plt \n",
    "X_test1 = X_test[:, 0:1]\n",
    "plt.scatter(X_test1, y_test, s=5, color=\"blue\", label=\"original\")\n",
    "plt.plot(X_test1, y_pred, lw=1.5, color=\"red\", label=\"predicted\")\n",
    "plt.legend()\n",
    "plt.show() "
   ]
  },
  {
   "cell_type": "code",
   "execution_count": 53,
   "metadata": {},
   "outputs": [
    {
     "name": "stdout",
     "output_type": "stream",
     "text": [
      "Mean Absoulte Error is : 211622.2001691919\n",
      "Mean Squared Error is : 117301339936.19476\n",
      "R-sqaure score is:  -0.03863153798215868\n"
     ]
    }
   ],
   "source": [
    "y_pred = svr.predict(X_test)\n",
    "print(\"Mean Absoulte Error is :\",mean_absolute_error(y_test, y_pred))\n",
    "print(\"Mean Squared Error is :\",mean_squared_error(y_test, y_pred))\n",
    "print(\"R-sqaure score is: \",r2_score(y_test, y_pred))"
   ]
  },
  {
   "cell_type": "markdown",
   "metadata": {},
   "source": [
    "We observe that SVM models are not a good fit for the data."
   ]
  },
  {
   "cell_type": "markdown",
   "metadata": {},
   "source": [
    "# Best Performing Model - # K Neighbors Regressor\n",
    "## k= 7\n",
    "- Train score            : 0.7099131413558875\n",
    "- Test score             : 0.6242015858557605\n",
    "- Mean Absoulte Error is : 135118.6940199075\n",
    "- Mean Squared Error is  : 42442055640.4995\n",
    "- R-sqaure score is      :  0.6242015858557605\n",
    "\n",
    "      "
   ]
  },
  {
   "cell_type": "markdown",
   "metadata": {},
   "source": [
    "# PROJECT BY - Group 7\n",
    "## Akhilandeshwari Bekkary (axb176530)\n",
    "## Anantha Shashidhar Karunakaram(axk176830)"
   ]
  }
 ],
 "metadata": {
  "kernelspec": {
   "display_name": "Python 3",
   "language": "python",
   "name": "python3"
  },
  "language_info": {
   "codemirror_mode": {
    "name": "ipython",
    "version": 3
   },
   "file_extension": ".py",
   "mimetype": "text/x-python",
   "name": "python",
   "nbconvert_exporter": "python",
   "pygments_lexer": "ipython3",
   "version": "3.6.8"
  }
 },
 "nbformat": 4,
 "nbformat_minor": 2
}
